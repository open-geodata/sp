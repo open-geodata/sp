{
 "cells": [
  {
   "cell_type": "markdown",
   "metadata": {},
   "source": [
    "<br>\n",
    "\n",
    "# Introdução"
   ]
  },
  {
   "cell_type": "code",
   "execution_count": null,
   "metadata": {
    "tags": []
   },
   "outputs": [],
   "source": [
    "#!pip3 install py7zr --upgrade"
   ]
  },
  {
   "cell_type": "code",
   "execution_count": null,
   "metadata": {
    "jupyter": {
     "outputs_hidden": false
    },
    "pycharm": {
     "name": "#%%\n"
    }
   },
   "outputs": [],
   "source": [
    "import os\n",
    "import py7zr\n",
    "import geopandas as gpd"
   ]
  },
  {
   "cell_type": "code",
   "execution_count": null,
   "metadata": {
    "jupyter": {
     "outputs_hidden": false
    },
    "pycharm": {
     "name": "#%%\n"
    }
   },
   "outputs": [],
   "source": [
    "from paths import *"
   ]
  },
  {
   "cell_type": "code",
   "execution_count": null,
   "metadata": {
    "jupyter": {
     "outputs_hidden": false
    },
    "pycharm": {
     "name": "#%%\n"
    }
   },
   "outputs": [],
   "source": [
    "list_files = os.listdir(gpkg_path)\n",
    "list_files"
   ]
  },
  {
   "cell_type": "markdown",
   "metadata": {},
   "source": [
    "<br>\n",
    "\n",
    "## Write"
   ]
  },
  {
   "cell_type": "code",
   "execution_count": null,
   "metadata": {
    "jupyter": {
     "outputs_hidden": false
    },
    "pycharm": {
     "name": "#%%\n"
    }
   },
   "outputs": [],
   "source": [
    "for file in list_files:\n",
    "    # File\n",
    "    filename = file.split('.', maxsplit=1)[0]\n",
    "    print(filename)\n",
    "\n",
    "    # Paths\n",
    "    zip7_filepath = os.path.join(zips_path, '{}.7z'.format(filename))\n",
    "    gpkg_filepath = os.path.join(gpkg_path, file)\n",
    "\n",
    "    # Write 7zip\n",
    "    with py7zr.SevenZipFile(zip7_filepath, 'w') as archive:\n",
    "        archive.write(gpkg_filepath, os.path.basename(gpkg_filepath))"
   ]
  },
  {
   "cell_type": "markdown",
   "metadata": {
    "jupyter": {
     "outputs_hidden": false
    },
    "pycharm": {
     "name": "#%%\n"
    }
   },
   "source": [
    "<br>\n",
    "\n",
    "## Read"
   ]
  },
  {
   "cell_type": "code",
   "execution_count": null,
   "metadata": {},
   "outputs": [],
   "source": [
    "with py7zr.SevenZipFile(os.path.join(zips_path, 'sp_250k_wgs84.7z'), 'r') as archive:\n",
    "    allfiles = archive.getnames()\n",
    "    print(allfiles[0])\n",
    "    \n",
    "    # Quero apenas um arquivo por gpkg\n",
    "    if len(allfiles) == 1:\n",
    "        for filename, bio in archive.read(allfiles).items():\n",
    "            print(bio)\n",
    "\n",
    "# Geodataframe\n",
    "gdf = gpd.read_file(bio)\n",
    "\n",
    "# Results\n",
    "print(gdf.crs)\n",
    "gdf.plot()\n",
    "display(gdf.head())"
   ]
  },
  {
   "cell_type": "code",
   "execution_count": null,
   "metadata": {},
   "outputs": [],
   "source": []
  }
 ],
 "metadata": {
  "kernelspec": {
   "display_name": "Python 3 (ipykernel)",
   "language": "python",
   "name": "python3"
  },
  "language_info": {
   "codemirror_mode": {
    "name": "ipython",
    "version": 3
   },
   "file_extension": ".py",
   "mimetype": "text/x-python",
   "name": "python",
   "nbconvert_exporter": "python",
   "pygments_lexer": "ipython3",
   "version": "3.9.12"
  }
 },
 "nbformat": 4,
 "nbformat_minor": 4
}
