{
 "cells": [
  {
   "cell_type": "markdown",
   "metadata": {},
   "source": [
    "<br>\n",
    "\n",
    "# Dados Tabulares"
   ]
  },
  {
   "cell_type": "code",
   "execution_count": 1,
   "metadata": {},
   "outputs": [],
   "source": [
    "import os\n",
    "import py7zr\n",
    "import requests\n",
    "import pandas as pd\n",
    "import geopandas as gpd\n",
    "\n",
    "from osgeo import ogr\n",
    "from zipfile import ZipFile"
   ]
  },
  {
   "cell_type": "code",
   "execution_count": 2,
   "metadata": {},
   "outputs": [],
   "source": [
    "from paths import *\n",
    "from functions import *"
   ]
  },
  {
   "cell_type": "markdown",
   "metadata": {},
   "source": [
    "<br>\n",
    "\n",
    "## Get Data"
   ]
  },
  {
   "cell_type": "code",
   "execution_count": 3,
   "metadata": {},
   "outputs": [
    {
     "name": "stdout",
     "output_type": "stream",
     "text": [
      "File \"sp_ibge_250k.zip\" download in \"../data/shps\" directory.\n",
      "File \"SP_Municipios_2020.cpg\" extracted as \"sp_ibge_250k.cpg\" in \"../data/shps\" directory.\n",
      "File \"SP_Municipios_2020.dbf\" extracted as \"sp_ibge_250k.dbf\" in \"../data/shps\" directory.\n",
      "File \"SP_Municipios_2020.prj\" extracted as \"sp_ibge_250k.prj\" in \"../data/shps\" directory.\n",
      "File \"SP_Municipios_2020.shp\" extracted as \"sp_ibge_250k.shp\" in \"../data/shps\" directory.\n",
      "File \"SP_Municipios_2020.shx\" extracted as \"sp_ibge_250k.shx\" in \"../data/shps\" directory.\n"
     ]
    }
   ],
   "source": [
    "# Input\n",
    "url = 'https://geoftp.ibge.gov.br/organizacao_do_territorio/malhas_territoriais/malhas_municipais/municipio_2020/UFs/SP/SP_Municipios_2020.zip'\n",
    "filename = 'sp_ibge_250k.zip'\n",
    "\n",
    "# Get Data\n",
    "get_download(url, filename, shps_path)\n",
    "unzip(filename, shps_path)"
   ]
  },
  {
   "cell_type": "code",
   "execution_count": 4,
   "metadata": {},
   "outputs": [
    {
     "name": "stdout",
     "output_type": "stream",
     "text": [
      "File \"sp_igc_050k.zip\" download in \"../data/shps\" directory.\n",
      "File \"LimiteMunicipalPolygon.cst\" extracted as \"sp_igc_050k.cst\" in \"../data/shps\" directory.\n",
      "File \"LimiteMunicipalPolygon.prj\" extracted as \"sp_igc_050k.prj\" in \"../data/shps\" directory.\n",
      "File \"LimiteMunicipalPolygon.dbf\" extracted as \"sp_igc_050k.dbf\" in \"../data/shps\" directory.\n",
      "File \"LimiteMunicipalPolygon.shp\" extracted as \"sp_igc_050k.shp\" in \"../data/shps\" directory.\n",
      "File \"LimiteMunicipalPolygon.shx\" extracted as \"sp_igc_050k.shx\" in \"../data/shps\" directory.\n",
      "File \"wfsrequest.txt\" extracted as \"sp_igc_050k.txt\" in \"../data/shps\" directory.\n"
     ]
    }
   ],
   "source": [
    "# Input\n",
    "url = 'http://datageo.ambiente.sp.gov.br/geoserver/datageo/LimiteMunicipal/wfs?version=1.0.0&request=GetFeature&outputFormat=SHAPE-ZIP&typeName=LimiteMunicipal'\n",
    "filename = 'sp_igc_050k.zip'\n",
    "\n",
    "# Get Data\n",
    "get_download(url, filename, shps_path)\n",
    "unzip(filename, shps_path)"
   ]
  },
  {
   "cell_type": "markdown",
   "metadata": {},
   "source": [
    "<br>\n",
    "\n",
    "## Área"
   ]
  },
  {
   "cell_type": "code",
   "execution_count": 5,
   "metadata": {},
   "outputs": [
    {
     "data": {
      "text/html": [
       "<div>\n",
       "<style scoped>\n",
       "    .dataframe tbody tr th:only-of-type {\n",
       "        vertical-align: middle;\n",
       "    }\n",
       "\n",
       "    .dataframe tbody tr th {\n",
       "        vertical-align: top;\n",
       "    }\n",
       "\n",
       "    .dataframe thead th {\n",
       "        text-align: right;\n",
       "    }\n",
       "</style>\n",
       "<table border=\"1\" class=\"dataframe\">\n",
       "  <thead>\n",
       "    <tr style=\"text-align: right;\">\n",
       "      <th></th>\n",
       "      <th>id_municipio</th>\n",
       "      <th>area_km2</th>\n",
       "    </tr>\n",
       "  </thead>\n",
       "  <tbody>\n",
       "    <tr>\n",
       "      <th>0</th>\n",
       "      <td>3500105</td>\n",
       "      <td>411.987</td>\n",
       "    </tr>\n",
       "    <tr>\n",
       "      <th>1</th>\n",
       "      <td>3500204</td>\n",
       "      <td>211.055</td>\n",
       "    </tr>\n",
       "    <tr>\n",
       "      <th>2</th>\n",
       "      <td>3500303</td>\n",
       "      <td>474.554</td>\n",
       "    </tr>\n",
       "    <tr>\n",
       "      <th>3</th>\n",
       "      <td>3500402</td>\n",
       "      <td>142.673</td>\n",
       "    </tr>\n",
       "    <tr>\n",
       "      <th>4</th>\n",
       "      <td>3500501</td>\n",
       "      <td>60.126</td>\n",
       "    </tr>\n",
       "  </tbody>\n",
       "</table>\n",
       "</div>"
      ],
      "text/plain": [
       "   id_municipio  area_km2\n",
       "0       3500105   411.987\n",
       "1       3500204   211.055\n",
       "2       3500303   474.554\n",
       "3       3500402   142.673\n",
       "4       3500501    60.126"
      ]
     },
     "execution_count": 5,
     "metadata": {},
     "output_type": "execute_result"
    }
   ],
   "source": [
    "# Converte em *geojson*\n",
    "file = 'sp_ibge_250k'\n",
    "shp = os.path.join(shps_path, '{}.shp'.format(file))\n",
    "gdf = gpd.read_file(shp)\n",
    "\n",
    "# Deleta colunas\n",
    "gdf.drop([\n",
    "    'NM_MUN',\n",
    "    'SIGLA_UF',\n",
    "],\n",
    "    axis=1,\n",
    "    inplace=True\n",
    ")\n",
    "\n",
    "# Renomeia colunas\n",
    "gdf.rename(\n",
    "    columns={\n",
    "        'CD_MUN': 'id_municipio',\n",
    "        'AREA_KM2': 'area_km2',\n",
    "    },\n",
    "    inplace=True\n",
    ")\n",
    "\n",
    "# Ajusta Tipo\n",
    "gdf['id_municipio'] = gdf['id_municipio'].astype(int)\n",
    "\n",
    "# Create Dataframe\n",
    "df = gdf[['id_municipio', 'area_km2']]\n",
    "\n",
    "# Salva\n",
    "df.to_csv(\n",
    "    os.path.join(tabs_path, 'tab_municipio_area.csv'),\n",
    "    index=False,\n",
    ")\n",
    "\n",
    "# Resultados\n",
    "df.head()"
   ]
  },
  {
   "cell_type": "markdown",
   "metadata": {},
   "source": [
    "<br>\n",
    "\n",
    "## CETESB"
   ]
  },
  {
   "cell_type": "code",
   "execution_count": 6,
   "metadata": {},
   "outputs": [],
   "source": [
    "# Lê arquivo\n",
    "file = 'sp_igc_050k'\n",
    "shp = os.path.join(shps_path, '{}.shp'.format(file))\n",
    "gdf = gpd.read_file(shp)\n",
    "\n",
    "# Cria Cópia\n",
    "df = gdf\n",
    "\n",
    "# Renomeia colunas\n",
    "df.rename(\n",
    "    columns={\n",
    "        'Cod_ibge'  : 'id_municipio',\n",
    "        'Cod_Cetesb': 'id_cetesb',\n",
    "    },\n",
    "    inplace=True\n",
    ")\n",
    "\n",
    "# Seleciona\n",
    "df = df[['id_municipio', 'id_cetesb']].copy()"
   ]
  },
  {
   "cell_type": "code",
   "execution_count": 7,
   "metadata": {},
   "outputs": [
    {
     "data": {
      "text/html": [
       "<div>\n",
       "<style scoped>\n",
       "    .dataframe tbody tr th:only-of-type {\n",
       "        vertical-align: middle;\n",
       "    }\n",
       "\n",
       "    .dataframe tbody tr th {\n",
       "        vertical-align: top;\n",
       "    }\n",
       "\n",
       "    .dataframe thead th {\n",
       "        text-align: right;\n",
       "    }\n",
       "</style>\n",
       "<table border=\"1\" class=\"dataframe\">\n",
       "  <thead>\n",
       "    <tr style=\"text-align: right;\">\n",
       "      <th></th>\n",
       "      <th>id_municipio</th>\n",
       "      <th>municipio_nome</th>\n",
       "      <th>id_cetesb</th>\n",
       "    </tr>\n",
       "  </thead>\n",
       "  <tbody>\n",
       "    <tr>\n",
       "      <th>0</th>\n",
       "      <td>3500105</td>\n",
       "      <td>Adamantina</td>\n",
       "      <td>150</td>\n",
       "    </tr>\n",
       "    <tr>\n",
       "      <th>1</th>\n",
       "      <td>3500204</td>\n",
       "      <td>Adolfo</td>\n",
       "      <td>151</td>\n",
       "    </tr>\n",
       "    <tr>\n",
       "      <th>2</th>\n",
       "      <td>3500303</td>\n",
       "      <td>Aguaí</td>\n",
       "      <td>152</td>\n",
       "    </tr>\n",
       "    <tr>\n",
       "      <th>3</th>\n",
       "      <td>3500402</td>\n",
       "      <td>Águas da Prata</td>\n",
       "      <td>154</td>\n",
       "    </tr>\n",
       "    <tr>\n",
       "      <th>4</th>\n",
       "      <td>3500501</td>\n",
       "      <td>Águas de Lindóia</td>\n",
       "      <td>153</td>\n",
       "    </tr>\n",
       "  </tbody>\n",
       "</table>\n",
       "</div>"
      ],
      "text/plain": [
       "   id_municipio    municipio_nome  id_cetesb\n",
       "0       3500105        Adamantina        150\n",
       "1       3500204            Adolfo        151\n",
       "2       3500303             Aguaí        152\n",
       "3       3500402    Águas da Prata        154\n",
       "4       3500501  Águas de Lindóia        153"
      ]
     },
     "execution_count": 7,
     "metadata": {},
     "output_type": "execute_result"
    }
   ],
   "source": [
    "# Lê o arquivo csv com o nome dos municípios\n",
    "df_mun = pd.read_csv(\n",
    "    os.path.join(tabs_path, 'tab_municipio_nome.csv'),\n",
    "    usecols=['id_municipio', 'municipio_nome'],\n",
    ")\n",
    "\n",
    "# Merge\n",
    "df = pd.merge(\n",
    "    df_mun,\n",
    "    df,\n",
    "    how='left',\n",
    "    left_on='id_municipio',\n",
    "    right_on='id_municipio',\n",
    ")\n",
    "\n",
    "# Salva\n",
    "df.to_csv(\n",
    "    os.path.join(tabs_path, 'tab_municipio_idcetesb.csv'),\n",
    "    index=False,\n",
    ")\n",
    "\n",
    "# Resultados\n",
    "df.head()"
   ]
  },
  {
   "cell_type": "markdown",
   "metadata": {},
   "source": [
    "<br>\n",
    "\n",
    "## UGRHIs"
   ]
  },
  {
   "cell_type": "code",
   "execution_count": 8,
   "metadata": {},
   "outputs": [],
   "source": [
    "def rename_nome(x):\n",
    "    x = x.title()\n",
    "    x = x.strip()\n",
    "    dict_rename = {\n",
    "        # Encoding\n",
    "        '/': ' / ',\n",
    "        '  '  : ' ',\n",
    "        ' De '  : ' de ',\n",
    "        ' Da '  : ' da ',\n",
    "        ' Do '  : ' do ',\n",
    "        ' Dos '  : ' dos ',\n",
    "        'Jundiai'  : 'Jundiaí',        \n",
    "    }\n",
    "    for k, v in dict_rename.items():\n",
    "        x = x.replace(k, v)\n",
    "    x = x.replace('  ', ' ')\n",
    "    return x.strip()"
   ]
  },
  {
   "cell_type": "code",
   "execution_count": 9,
   "metadata": {},
   "outputs": [
    {
     "data": {
      "text/html": [
       "<div>\n",
       "<style scoped>\n",
       "    .dataframe tbody tr th:only-of-type {\n",
       "        vertical-align: middle;\n",
       "    }\n",
       "\n",
       "    .dataframe tbody tr th {\n",
       "        vertical-align: top;\n",
       "    }\n",
       "\n",
       "    .dataframe thead th {\n",
       "        text-align: right;\n",
       "    }\n",
       "</style>\n",
       "<table border=\"1\" class=\"dataframe\">\n",
       "  <thead>\n",
       "    <tr style=\"text-align: right;\">\n",
       "      <th></th>\n",
       "      <th>id_municipio</th>\n",
       "      <th>id_ugrhi</th>\n",
       "      <th>nome_ugrhi</th>\n",
       "    </tr>\n",
       "  </thead>\n",
       "  <tbody>\n",
       "    <tr>\n",
       "      <th>0</th>\n",
       "      <td>3500105</td>\n",
       "      <td>21</td>\n",
       "      <td>Peixe</td>\n",
       "    </tr>\n",
       "    <tr>\n",
       "      <th>1</th>\n",
       "      <td>3500204</td>\n",
       "      <td>16</td>\n",
       "      <td>Tietê / Batalha</td>\n",
       "    </tr>\n",
       "    <tr>\n",
       "      <th>2</th>\n",
       "      <td>3500303</td>\n",
       "      <td>9</td>\n",
       "      <td>Mogi-Guaçu</td>\n",
       "    </tr>\n",
       "    <tr>\n",
       "      <th>3</th>\n",
       "      <td>3500402</td>\n",
       "      <td>9</td>\n",
       "      <td>Mogi-Guaçu</td>\n",
       "    </tr>\n",
       "    <tr>\n",
       "      <th>4</th>\n",
       "      <td>3500501</td>\n",
       "      <td>9</td>\n",
       "      <td>Mogi-Guaçu</td>\n",
       "    </tr>\n",
       "  </tbody>\n",
       "</table>\n",
       "</div>"
      ],
      "text/plain": [
       "   id_municipio  id_ugrhi       nome_ugrhi\n",
       "0       3500105        21            Peixe\n",
       "1       3500204        16  Tietê / Batalha\n",
       "2       3500303         9       Mogi-Guaçu\n",
       "3       3500402         9       Mogi-Guaçu\n",
       "4       3500501         9       Mogi-Guaçu"
      ]
     },
     "execution_count": 9,
     "metadata": {},
     "output_type": "execute_result"
    }
   ],
   "source": [
    "# Lê arquivo\n",
    "file = 'sp_igc_050k'\n",
    "shp = os.path.join(shps_path, '{}.shp'.format(file))\n",
    "gdf = gpd.read_file(shp)\n",
    "\n",
    "# Cria Cópia\n",
    "df = gdf\n",
    "\n",
    "# Renomeia colunas\n",
    "df.rename(\n",
    "    columns={\n",
    "        'Cod_ibge'  : 'id_municipio',\n",
    "        'Nome_ugrhi': 'nome_ugrhi',\n",
    "        'UGRHI'     : 'id_ugrhi',\n",
    "    },\n",
    "    inplace=True\n",
    ")\n",
    "\n",
    "# Seleciona\n",
    "df = df[['id_municipio', 'id_ugrhi', 'nome_ugrhi']].copy()\n",
    "\n",
    "# Renomeia Campos Coluna\n",
    "df.loc[:, 'nome_ugrhi'] = df['nome_ugrhi'].astype(str).apply(lambda x: rename_nome(x))\n",
    "\n",
    "# Resultados\n",
    "df.head()"
   ]
  },
  {
   "cell_type": "code",
   "execution_count": 10,
   "metadata": {},
   "outputs": [
    {
     "data": {
      "text/html": [
       "<div>\n",
       "<style scoped>\n",
       "    .dataframe tbody tr th:only-of-type {\n",
       "        vertical-align: middle;\n",
       "    }\n",
       "\n",
       "    .dataframe tbody tr th {\n",
       "        vertical-align: top;\n",
       "    }\n",
       "\n",
       "    .dataframe thead th {\n",
       "        text-align: right;\n",
       "    }\n",
       "</style>\n",
       "<table border=\"1\" class=\"dataframe\">\n",
       "  <thead>\n",
       "    <tr style=\"text-align: right;\">\n",
       "      <th></th>\n",
       "      <th>id_municipio</th>\n",
       "      <th>municipio_nome</th>\n",
       "      <th>id_ugrhi</th>\n",
       "      <th>nome_ugrhi</th>\n",
       "    </tr>\n",
       "  </thead>\n",
       "  <tbody>\n",
       "    <tr>\n",
       "      <th>0</th>\n",
       "      <td>3500105</td>\n",
       "      <td>Adamantina</td>\n",
       "      <td>21</td>\n",
       "      <td>Peixe</td>\n",
       "    </tr>\n",
       "    <tr>\n",
       "      <th>1</th>\n",
       "      <td>3500204</td>\n",
       "      <td>Adolfo</td>\n",
       "      <td>16</td>\n",
       "      <td>Tietê / Batalha</td>\n",
       "    </tr>\n",
       "    <tr>\n",
       "      <th>2</th>\n",
       "      <td>3500303</td>\n",
       "      <td>Aguaí</td>\n",
       "      <td>9</td>\n",
       "      <td>Mogi-Guaçu</td>\n",
       "    </tr>\n",
       "    <tr>\n",
       "      <th>3</th>\n",
       "      <td>3500402</td>\n",
       "      <td>Águas da Prata</td>\n",
       "      <td>9</td>\n",
       "      <td>Mogi-Guaçu</td>\n",
       "    </tr>\n",
       "    <tr>\n",
       "      <th>4</th>\n",
       "      <td>3500501</td>\n",
       "      <td>Águas de Lindóia</td>\n",
       "      <td>9</td>\n",
       "      <td>Mogi-Guaçu</td>\n",
       "    </tr>\n",
       "  </tbody>\n",
       "</table>\n",
       "</div>"
      ],
      "text/plain": [
       "   id_municipio    municipio_nome  id_ugrhi       nome_ugrhi\n",
       "0       3500105        Adamantina        21            Peixe\n",
       "1       3500204            Adolfo        16  Tietê / Batalha\n",
       "2       3500303             Aguaí         9       Mogi-Guaçu\n",
       "3       3500402    Águas da Prata         9       Mogi-Guaçu\n",
       "4       3500501  Águas de Lindóia         9       Mogi-Guaçu"
      ]
     },
     "execution_count": 10,
     "metadata": {},
     "output_type": "execute_result"
    }
   ],
   "source": [
    "# Lê o arquivo csv com o nome dos municípios\n",
    "df_mun = pd.read_csv(\n",
    "    os.path.join(tabs_path, 'tab_municipio_nome.csv'),\n",
    "    usecols=['id_municipio', 'municipio_nome']\n",
    ")\n",
    "\n",
    "# Merge\n",
    "df = pd.merge(\n",
    "    df_mun,\n",
    "    df,\n",
    "    how='left',\n",
    "    left_on='id_municipio',\n",
    "    right_on='id_municipio'\n",
    ")\n",
    "\n",
    "# Salva\n",
    "df.to_csv(\n",
    "    os.path.join(tabs_path, 'tab_municipio_ugrhi.csv'),\n",
    "    index=False,\n",
    ")\n",
    "\n",
    "# Resultados\n",
    "df.head()"
   ]
  },
  {
   "cell_type": "markdown",
   "metadata": {},
   "source": [
    "<br>\n",
    "\n",
    "## RMs e AUs"
   ]
  },
  {
   "cell_type": "code",
   "execution_count": 11,
   "metadata": {},
   "outputs": [
    {
     "name": "stdout",
     "output_type": "stream",
     "text": [
      "Existem as seguintes colunas disponíveis:\n",
      "['GRANDE_REG', 'COD_UF', 'SIGLA_UF', 'COD', 'NOME', 'TIPO', 'COD_CAT_ASSOC', 'CAT_ASSOC', 'COD_MUN', 'NOME_MUN', 'LEG', 'DATA']\n",
      "\n"
     ]
    }
   ],
   "source": [
    "# URL para baixar o arquivo zip\n",
    "url = 'https://geoftp.ibge.gov.br/organizacao_do_territorio/estrutura_territorial/municipios_por_regioes_metropolitanas/Situacao_2020a2029/Composicao_RMs_RIDEs_AglomUrbanas_2020_06_30.xlsx'\n",
    "\n",
    "# Read File\n",
    "df = pd.read_excel(\n",
    "    url,\n",
    "    engine='openpyxl',\n",
    ")\n",
    "print('Existem as seguintes colunas disponíveis:\\n{}\\n'.format(list(df.columns)))\n",
    "\n",
    "df = df.loc[df['COD_UF'] == 35]\n",
    "df = df[['COD_MUN', 'NOME', 'LEG', 'DATA']].copy()\n",
    "df.reset_index(drop=True, inplace=True)\n",
    "\n",
    "df.rename(\n",
    "    columns={\n",
    "        'COD_MUN': 'id_municipio',\n",
    "        'NOME'   : 'nome_rm',\n",
    "        'LEG'    : 'legislacao',\n",
    "        'DATA'   : 'data',\n",
    "    },\n",
    "    inplace=True,\n",
    ")\n",
    "\n",
    "# Atribute Table\n",
    "df['data_format'] = df['data'].dt.strftime('%d.%m.%Y')\n",
    "df['legislacao_data'] = df[['legislacao', 'data_format']].apply(lambda x: ' de '.join(x), axis=1)\n",
    "df.drop('data_format', axis=1, inplace=True)"
   ]
  },
  {
   "cell_type": "code",
   "execution_count": 12,
   "metadata": {},
   "outputs": [
    {
     "data": {
      "text/html": [
       "<div>\n",
       "<style scoped>\n",
       "    .dataframe tbody tr th:only-of-type {\n",
       "        vertical-align: middle;\n",
       "    }\n",
       "\n",
       "    .dataframe tbody tr th {\n",
       "        vertical-align: top;\n",
       "    }\n",
       "\n",
       "    .dataframe thead th {\n",
       "        text-align: right;\n",
       "    }\n",
       "</style>\n",
       "<table border=\"1\" class=\"dataframe\">\n",
       "  <thead>\n",
       "    <tr style=\"text-align: right;\">\n",
       "      <th></th>\n",
       "      <th>id_municipio</th>\n",
       "      <th>municipio_nome</th>\n",
       "      <th>nome_rm</th>\n",
       "      <th>legislacao</th>\n",
       "      <th>data</th>\n",
       "      <th>legislacao_data</th>\n",
       "    </tr>\n",
       "  </thead>\n",
       "  <tbody>\n",
       "    <tr>\n",
       "      <th>0</th>\n",
       "      <td>3503000</td>\n",
       "      <td>Aramina</td>\n",
       "      <td>Aglomeração Urbana de Franca</td>\n",
       "      <td>Lei Complementar 1.323</td>\n",
       "      <td>2018-05-22</td>\n",
       "      <td>Lei Complementar 1.323 de 22.05.2018</td>\n",
       "    </tr>\n",
       "    <tr>\n",
       "      <th>1</th>\n",
       "      <td>3508207</td>\n",
       "      <td>Buritizal</td>\n",
       "      <td>Aglomeração Urbana de Franca</td>\n",
       "      <td>Lei Complementar 1.323</td>\n",
       "      <td>2018-05-22</td>\n",
       "      <td>Lei Complementar 1.323 de 22.05.2018</td>\n",
       "    </tr>\n",
       "    <tr>\n",
       "      <th>2</th>\n",
       "      <td>3513207</td>\n",
       "      <td>Cristais Paulista</td>\n",
       "      <td>Aglomeração Urbana de Franca</td>\n",
       "      <td>Lei Complementar 1.323</td>\n",
       "      <td>2018-05-22</td>\n",
       "      <td>Lei Complementar 1.323 de 22.05.2018</td>\n",
       "    </tr>\n",
       "    <tr>\n",
       "      <th>3</th>\n",
       "      <td>3516200</td>\n",
       "      <td>Franca</td>\n",
       "      <td>Aglomeração Urbana de Franca</td>\n",
       "      <td>Lei Complementar 1.323</td>\n",
       "      <td>2018-05-22</td>\n",
       "      <td>Lei Complementar 1.323 de 22.05.2018</td>\n",
       "    </tr>\n",
       "    <tr>\n",
       "      <th>4</th>\n",
       "      <td>3517406</td>\n",
       "      <td>Guaíra</td>\n",
       "      <td>Aglomeração Urbana de Franca</td>\n",
       "      <td>Lei Complementar 1.323</td>\n",
       "      <td>2018-05-22</td>\n",
       "      <td>Lei Complementar 1.323 de 22.05.2018</td>\n",
       "    </tr>\n",
       "  </tbody>\n",
       "</table>\n",
       "</div>"
      ],
      "text/plain": [
       "   id_municipio     municipio_nome                       nome_rm  \\\n",
       "0       3503000            Aramina  Aglomeração Urbana de Franca   \n",
       "1       3508207          Buritizal  Aglomeração Urbana de Franca   \n",
       "2       3513207  Cristais Paulista  Aglomeração Urbana de Franca   \n",
       "3       3516200             Franca  Aglomeração Urbana de Franca   \n",
       "4       3517406             Guaíra  Aglomeração Urbana de Franca   \n",
       "\n",
       "               legislacao       data                       legislacao_data  \n",
       "0  Lei Complementar 1.323 2018-05-22  Lei Complementar 1.323 de 22.05.2018  \n",
       "1  Lei Complementar 1.323 2018-05-22  Lei Complementar 1.323 de 22.05.2018  \n",
       "2  Lei Complementar 1.323 2018-05-22  Lei Complementar 1.323 de 22.05.2018  \n",
       "3  Lei Complementar 1.323 2018-05-22  Lei Complementar 1.323 de 22.05.2018  \n",
       "4  Lei Complementar 1.323 2018-05-22  Lei Complementar 1.323 de 22.05.2018  "
      ]
     },
     "execution_count": 12,
     "metadata": {},
     "output_type": "execute_result"
    }
   ],
   "source": [
    "# Lê o arquivo csv com o nome dos municípios\n",
    "df_mun = pd.read_csv(\n",
    "    os.path.join(tabs_path, 'tab_municipio_nome.csv'),\n",
    "    usecols=['id_municipio', 'municipio_nome']\n",
    ")\n",
    "\n",
    "# Merge\n",
    "df = pd.merge(\n",
    "    df_mun,\n",
    "    df,\n",
    "    how='right',\n",
    "    left_on='id_municipio',\n",
    "    right_on='id_municipio'\n",
    ")\n",
    "\n",
    "# Results\n",
    "df.to_csv(\n",
    "    os.path.join(tabs_path, 'tab_rms.csv'),\n",
    "    index=False,\n",
    ")\n",
    "\n",
    "# Resultados\n",
    "df.head()"
   ]
  },
  {
   "cell_type": "markdown",
   "metadata": {},
   "source": [
    "<br>\n",
    "\n",
    "## Microregião"
   ]
  },
  {
   "cell_type": "code",
   "execution_count": 13,
   "metadata": {},
   "outputs": [],
   "source": [
    "# Lê geojson\n",
    "file = 'sp_ibge_250k'\n",
    "shp = os.path.join(shps_path, '{}.shp'.format(file))\n",
    "gdf = gpd.read_file(shp)\n",
    "\n",
    "# Cria Cópia\n",
    "df = gdf[['CD_MUN']].copy()\n",
    "\n",
    "# Renomeia colunas\n",
    "df.rename(columns={'CD_MUN'  : 'id_municipio'}, inplace=True)\n",
    "\n",
    "# Pega apenas os três primeiros caracteres de um campo de número de maneira mais eficiente\n",
    "df['id_microregiao'] = [int(x[0:5]) for x in df['id_municipio']]\n",
    "\n",
    "# Ajusta Tipo\n",
    "df['id_municipio'] = df['id_municipio'].astype(int)"
   ]
  },
  {
   "cell_type": "code",
   "execution_count": 14,
   "metadata": {},
   "outputs": [
    {
     "data": {
      "text/html": [
       "<div>\n",
       "<style scoped>\n",
       "    .dataframe tbody tr th:only-of-type {\n",
       "        vertical-align: middle;\n",
       "    }\n",
       "\n",
       "    .dataframe tbody tr th {\n",
       "        vertical-align: top;\n",
       "    }\n",
       "\n",
       "    .dataframe thead th {\n",
       "        text-align: right;\n",
       "    }\n",
       "</style>\n",
       "<table border=\"1\" class=\"dataframe\">\n",
       "  <thead>\n",
       "    <tr style=\"text-align: right;\">\n",
       "      <th></th>\n",
       "      <th>id_municipio</th>\n",
       "      <th>municipio_nome</th>\n",
       "      <th>id_microregiao</th>\n",
       "    </tr>\n",
       "  </thead>\n",
       "  <tbody>\n",
       "    <tr>\n",
       "      <th>0</th>\n",
       "      <td>3500105</td>\n",
       "      <td>Adamantina</td>\n",
       "      <td>35001</td>\n",
       "    </tr>\n",
       "    <tr>\n",
       "      <th>1</th>\n",
       "      <td>3500204</td>\n",
       "      <td>Adolfo</td>\n",
       "      <td>35002</td>\n",
       "    </tr>\n",
       "    <tr>\n",
       "      <th>2</th>\n",
       "      <td>3500303</td>\n",
       "      <td>Aguaí</td>\n",
       "      <td>35003</td>\n",
       "    </tr>\n",
       "    <tr>\n",
       "      <th>3</th>\n",
       "      <td>3500402</td>\n",
       "      <td>Águas da Prata</td>\n",
       "      <td>35004</td>\n",
       "    </tr>\n",
       "    <tr>\n",
       "      <th>4</th>\n",
       "      <td>3500501</td>\n",
       "      <td>Águas de Lindóia</td>\n",
       "      <td>35005</td>\n",
       "    </tr>\n",
       "  </tbody>\n",
       "</table>\n",
       "</div>"
      ],
      "text/plain": [
       "   id_municipio    municipio_nome  id_microregiao\n",
       "0       3500105        Adamantina           35001\n",
       "1       3500204            Adolfo           35002\n",
       "2       3500303             Aguaí           35003\n",
       "3       3500402    Águas da Prata           35004\n",
       "4       3500501  Águas de Lindóia           35005"
      ]
     },
     "execution_count": 14,
     "metadata": {},
     "output_type": "execute_result"
    }
   ],
   "source": [
    "# Lê o arquivo csv com o nome dos municípios\n",
    "df_mun = pd.read_csv(\n",
    "    os.path.join(tabs_path, 'tab_municipio_nome.csv'),\n",
    "    usecols=['id_municipio', 'municipio_nome']\n",
    ")\n",
    "\n",
    "# Merge\n",
    "df = pd.merge(\n",
    "    df_mun,\n",
    "    df,\n",
    "    how='left',\n",
    "    left_on='id_municipio',\n",
    "    right_on='id_municipio'\n",
    ")\n",
    "\n",
    "# Salva\n",
    "df.to_csv(\n",
    "    os.path.join(tabs_path, 'tab_municipio_microregiao.csv'),\n",
    "    index=False,\n",
    ")\n",
    "\n",
    "# Resultados\n",
    "df.head()"
   ]
  },
  {
   "cell_type": "markdown",
   "metadata": {},
   "source": [
    "<br>\n",
    "\n",
    "## Mesoregião"
   ]
  },
  {
   "cell_type": "code",
   "execution_count": 15,
   "metadata": {},
   "outputs": [],
   "source": [
    "# Lê geojson\n",
    "file = 'sp_ibge_250k'\n",
    "shp = os.path.join(shps_path, '{}.shp'.format(file))\n",
    "gdf = gpd.read_file(shp)\n",
    "\n",
    "# Cria Cópia\n",
    "df = gdf[['CD_MUN']].copy()\n",
    "\n",
    "# Renomeia colunas\n",
    "df.rename(columns={'CD_MUN'  : 'id_municipio'}, inplace=True)\n",
    "\n",
    "# Pega apenas os três primeiros caracteres de um campo de número de maneira mais eficiente\n",
    "df['id_mesoregiao'] = [int(x[0:4]) for x in df['id_municipio']]\n",
    "\n",
    "# Ajusta Tipo\n",
    "df['id_municipio'] = df['id_municipio'].astype(int)"
   ]
  },
  {
   "cell_type": "code",
   "execution_count": 16,
   "metadata": {},
   "outputs": [
    {
     "data": {
      "text/html": [
       "<div>\n",
       "<style scoped>\n",
       "    .dataframe tbody tr th:only-of-type {\n",
       "        vertical-align: middle;\n",
       "    }\n",
       "\n",
       "    .dataframe tbody tr th {\n",
       "        vertical-align: top;\n",
       "    }\n",
       "\n",
       "    .dataframe thead th {\n",
       "        text-align: right;\n",
       "    }\n",
       "</style>\n",
       "<table border=\"1\" class=\"dataframe\">\n",
       "  <thead>\n",
       "    <tr style=\"text-align: right;\">\n",
       "      <th></th>\n",
       "      <th>id_municipio</th>\n",
       "      <th>municipio_nome</th>\n",
       "      <th>id_mesoregiao</th>\n",
       "    </tr>\n",
       "  </thead>\n",
       "  <tbody>\n",
       "    <tr>\n",
       "      <th>0</th>\n",
       "      <td>3500105</td>\n",
       "      <td>Adamantina</td>\n",
       "      <td>3500</td>\n",
       "    </tr>\n",
       "    <tr>\n",
       "      <th>1</th>\n",
       "      <td>3500204</td>\n",
       "      <td>Adolfo</td>\n",
       "      <td>3500</td>\n",
       "    </tr>\n",
       "    <tr>\n",
       "      <th>2</th>\n",
       "      <td>3500303</td>\n",
       "      <td>Aguaí</td>\n",
       "      <td>3500</td>\n",
       "    </tr>\n",
       "    <tr>\n",
       "      <th>3</th>\n",
       "      <td>3500402</td>\n",
       "      <td>Águas da Prata</td>\n",
       "      <td>3500</td>\n",
       "    </tr>\n",
       "    <tr>\n",
       "      <th>4</th>\n",
       "      <td>3500501</td>\n",
       "      <td>Águas de Lindóia</td>\n",
       "      <td>3500</td>\n",
       "    </tr>\n",
       "  </tbody>\n",
       "</table>\n",
       "</div>"
      ],
      "text/plain": [
       "   id_municipio    municipio_nome  id_mesoregiao\n",
       "0       3500105        Adamantina           3500\n",
       "1       3500204            Adolfo           3500\n",
       "2       3500303             Aguaí           3500\n",
       "3       3500402    Águas da Prata           3500\n",
       "4       3500501  Águas de Lindóia           3500"
      ]
     },
     "execution_count": 16,
     "metadata": {},
     "output_type": "execute_result"
    }
   ],
   "source": [
    "# Lê o arquivo csv com o nome dos municípios\n",
    "df_mun = pd.read_csv(\n",
    "    os.path.join(tabs_path, 'tab_municipio_nome.csv'),\n",
    "    usecols=['id_municipio', 'municipio_nome']\n",
    ")\n",
    "\n",
    "# Merge\n",
    "df = pd.merge(\n",
    "    df_mun,\n",
    "    df,\n",
    "    how='left',\n",
    "    left_on='id_municipio',\n",
    "    right_on='id_municipio'\n",
    ")\n",
    "\n",
    "# Salva\n",
    "df.to_csv(\n",
    "    os.path.join(tabs_path, 'tab_municipio_mesoregiao.csv'),\n",
    "    index=False,\n",
    ")\n",
    "\n",
    "# Resultados\n",
    "df.head()"
   ]
  },
  {
   "cell_type": "markdown",
   "metadata": {},
   "source": [
    "<br>\n",
    "\n",
    "## Macrometropole"
   ]
  },
  {
   "cell_type": "code",
   "execution_count": 17,
   "metadata": {},
   "outputs": [
    {
     "name": "stdout",
     "output_type": "stream",
     "text": [
      "File \"sp_macrometropole.zip\" download in \"../data/shps\" directory.\n",
      "File \"LimiteMacrometropole2015Polygon.cst\" extracted as \"sp_macrometropole.cst\" in \"../data/shps\" directory.\n",
      "File \"LimiteMacrometropole2015Polygon.dbf\" extracted as \"sp_macrometropole.dbf\" in \"../data/shps\" directory.\n",
      "File \"LimiteMacrometropole2015Polygon.shp\" extracted as \"sp_macrometropole.shp\" in \"../data/shps\" directory.\n",
      "File \"LimiteMacrometropole2015Polygon.shx\" extracted as \"sp_macrometropole.shx\" in \"../data/shps\" directory.\n",
      "File \"LimiteMacrometropole2015Polygon.prj\" extracted as \"sp_macrometropole.prj\" in \"../data/shps\" directory.\n",
      "File \"wfsrequest.txt\" extracted as \"sp_macrometropole.txt\" in \"../data/shps\" directory.\n"
     ]
    }
   ],
   "source": [
    "# Input\n",
    "url = 'http://datageo.ambiente.sp.gov.br/geoserver/datageo/LimiteMacrometropole2015/wfs?version=1.0.0&request=GetFeature&outputFormat=SHAPE-ZIP&typeName=LimiteMacrometropole2015'\n",
    "filename = 'sp_macrometropole.zip'\n",
    "\n",
    "# Get Data\n",
    "get_download(url, filename, shps_path)\n",
    "unzip(filename, shps_path)"
   ]
  },
  {
   "cell_type": "code",
   "execution_count": 18,
   "metadata": {},
   "outputs": [
    {
     "data": {
      "text/html": [
       "<div>\n",
       "<style scoped>\n",
       "    .dataframe tbody tr th:only-of-type {\n",
       "        vertical-align: middle;\n",
       "    }\n",
       "\n",
       "    .dataframe tbody tr th {\n",
       "        vertical-align: top;\n",
       "    }\n",
       "\n",
       "    .dataframe thead th {\n",
       "        text-align: right;\n",
       "    }\n",
       "</style>\n",
       "<table border=\"1\" class=\"dataframe\">\n",
       "  <thead>\n",
       "    <tr style=\"text-align: right;\">\n",
       "      <th></th>\n",
       "      <th>macrometropole</th>\n",
       "      <th>geometry</th>\n",
       "    </tr>\n",
       "  </thead>\n",
       "  <tbody>\n",
       "    <tr>\n",
       "      <th>0</th>\n",
       "      <td>Macrometrópole</td>\n",
       "      <td>MULTIPOLYGON (((-45.52488 -23.85610, -45.52502...</td>\n",
       "    </tr>\n",
       "  </tbody>\n",
       "</table>\n",
       "</div>"
      ],
      "text/plain": [
       "   macrometropole                                           geometry\n",
       "0  Macrometrópole  MULTIPOLYGON (((-45.52488 -23.85610, -45.52502..."
      ]
     },
     "metadata": {},
     "output_type": "display_data"
    }
   ],
   "source": [
    "# Lê arquivo\n",
    "file = 'sp_macrometropole'\n",
    "shp = os.path.join(shps_path, '{}.shp'.format(file))\n",
    "gdf = gpd.read_file(shp)\n",
    "\n",
    "# Transforma Coordenadas\n",
    "gdf = gdf.to_crs(epsg=4326)\n",
    "\n",
    "# Renomeia colunas\n",
    "gdf.rename(columns={'Nome': 'macrometropole'}, inplace=True)\n",
    "\n",
    "# Results\n",
    "display(gdf.head())\n",
    "\n",
    "# Cria Cópia\n",
    "gdf_macro = gdf\n",
    "\n",
    "# Deleta Shapefile\n",
    "delete_shapefile(shp)"
   ]
  },
  {
   "cell_type": "code",
   "execution_count": 19,
   "metadata": {},
   "outputs": [
    {
     "data": {
      "text/html": [
       "<div>\n",
       "<style scoped>\n",
       "    .dataframe tbody tr th:only-of-type {\n",
       "        vertical-align: middle;\n",
       "    }\n",
       "\n",
       "    .dataframe tbody tr th {\n",
       "        vertical-align: top;\n",
       "    }\n",
       "\n",
       "    .dataframe thead th {\n",
       "        text-align: right;\n",
       "    }\n",
       "</style>\n",
       "<table border=\"1\" class=\"dataframe\">\n",
       "  <thead>\n",
       "    <tr style=\"text-align: right;\">\n",
       "      <th></th>\n",
       "      <th>id_municipio</th>\n",
       "      <th>geometry</th>\n",
       "    </tr>\n",
       "  </thead>\n",
       "  <tbody>\n",
       "    <tr>\n",
       "      <th>0</th>\n",
       "      <td>3500105</td>\n",
       "      <td>POINT (-51.03455 -21.58238)</td>\n",
       "    </tr>\n",
       "    <tr>\n",
       "      <th>1</th>\n",
       "      <td>3500204</td>\n",
       "      <td>POINT (-49.64157 -21.28052)</td>\n",
       "    </tr>\n",
       "    <tr>\n",
       "      <th>2</th>\n",
       "      <td>3500303</td>\n",
       "      <td>POINT (-47.05263 -22.05743)</td>\n",
       "    </tr>\n",
       "    <tr>\n",
       "      <th>3</th>\n",
       "      <td>3500402</td>\n",
       "      <td>POINT (-46.70056 -21.91795)</td>\n",
       "    </tr>\n",
       "    <tr>\n",
       "      <th>4</th>\n",
       "      <td>3500501</td>\n",
       "      <td>POINT (-46.60940 -22.47578)</td>\n",
       "    </tr>\n",
       "  </tbody>\n",
       "</table>\n",
       "</div>"
      ],
      "text/plain": [
       "   id_municipio                     geometry\n",
       "0       3500105  POINT (-51.03455 -21.58238)\n",
       "1       3500204  POINT (-49.64157 -21.28052)\n",
       "2       3500303  POINT (-47.05263 -22.05743)\n",
       "3       3500402  POINT (-46.70056 -21.91795)\n",
       "4       3500501  POINT (-46.60940 -22.47578)"
      ]
     },
     "metadata": {},
     "output_type": "display_data"
    },
    {
     "data": {
      "text/plain": [
       "<AxesSubplot:>"
      ]
     },
     "execution_count": 19,
     "metadata": {},
     "output_type": "execute_result"
    },
    {
     "data": {
      "image/png": "[encoded data removed]",
      "text/plain": [
       "<Figure size 432x288 with 1 Axes>"
      ]
     },
     "metadata": {
      "needs_background": "light"
     },
     "output_type": "display_data"
    }
   ],
   "source": [
    "# Lê arquivo\n",
    "file = 'sp_igc_050k'\n",
    "shp = os.path.join(shps_path, '{}.shp'.format(file))\n",
    "gdf = gpd.read_file(shp)\n",
    "\n",
    "# Renomeia colunas\n",
    "gdf.rename(\n",
    "    columns={\n",
    "        'Cod_ibge'  : 'id_municipio',\n",
    "        'Cod_Cetesb': 'id_cetesb',\n",
    "        'Nome'      : 'nome_municipio',\n",
    "        'Rotulo'    : 'rotulo_municipio',\n",
    "        'Nome_ugrhi': 'nome_ugrhi',\n",
    "        'UGRHI'     : 'id_ugrhi',\n",
    "    },\n",
    "    inplace=True\n",
    ")\n",
    "\n",
    "# Deleta colunas\n",
    "gdf.drop(['id_cetesb', 'nome_municipio', 'rotulo_municipio', 'nome_ugrhi', 'id_ugrhi'], axis=1, inplace=True)\n",
    "\n",
    "# Transforma Coordenadas\n",
    "gdf = gdf.to_crs(epsg=4326)\n",
    "\n",
    "# Pega centroid\n",
    "gdf_geometry = gdf.representative_point()\n",
    "gdf['geometry'] = gdf_geometry\n",
    "\n",
    "# Results\n",
    "display(gdf.head())\n",
    "gdf.plot()"
   ]
  },
  {
   "cell_type": "code",
   "execution_count": 20,
   "metadata": {},
   "outputs": [
    {
     "name": "stderr",
     "output_type": "stream",
     "text": [
      "/home/michel/Documents/Conda/envs/pablocarreira-py39/lib/python3.9/site-packages/IPython/core/interactiveshell.py:3301: FutureWarning: The `op` parameter is deprecated and will be removed in a future release. Please use the `predicate` parameter instead.\n",
      "  if await self.run_code(code, result, async_=asy):\n"
     ]
    },
    {
     "data": {
      "text/html": [
       "<div>\n",
       "<style scoped>\n",
       "    .dataframe tbody tr th:only-of-type {\n",
       "        vertical-align: middle;\n",
       "    }\n",
       "\n",
       "    .dataframe tbody tr th {\n",
       "        vertical-align: top;\n",
       "    }\n",
       "\n",
       "    .dataframe thead th {\n",
       "        text-align: right;\n",
       "    }\n",
       "</style>\n",
       "<table border=\"1\" class=\"dataframe\">\n",
       "  <thead>\n",
       "    <tr style=\"text-align: right;\">\n",
       "      <th></th>\n",
       "      <th>id_municipio</th>\n",
       "      <th>macrometropole</th>\n",
       "    </tr>\n",
       "  </thead>\n",
       "  <tbody>\n",
       "    <tr>\n",
       "      <th>6</th>\n",
       "      <td>3500600</td>\n",
       "      <td>Macrometrópole</td>\n",
       "    </tr>\n",
       "    <tr>\n",
       "      <th>8</th>\n",
       "      <td>3500758</td>\n",
       "      <td>Macrometrópole</td>\n",
       "    </tr>\n",
       "    <tr>\n",
       "      <th>13</th>\n",
       "      <td>3501152</td>\n",
       "      <td>Macrometrópole</td>\n",
       "    </tr>\n",
       "    <tr>\n",
       "      <th>18</th>\n",
       "      <td>3501608</td>\n",
       "      <td>Macrometrópole</td>\n",
       "    </tr>\n",
       "    <tr>\n",
       "      <th>22</th>\n",
       "      <td>3502002</td>\n",
       "      <td>Macrometrópole</td>\n",
       "    </tr>\n",
       "  </tbody>\n",
       "</table>\n",
       "</div>"
      ],
      "text/plain": [
       "    id_municipio  macrometropole\n",
       "6        3500600  Macrometrópole\n",
       "8        3500758  Macrometrópole\n",
       "13       3501152  Macrometrópole\n",
       "18       3501608  Macrometrópole\n",
       "22       3502002  Macrometrópole"
      ]
     },
     "metadata": {},
     "output_type": "display_data"
    },
    {
     "data": {
      "text/plain": [
       "<AxesSubplot:>"
      ]
     },
     "execution_count": 20,
     "metadata": {},
     "output_type": "execute_result"
    },
    {
     "data": {
      "image/png": "[encoded data removed]",
      "text/plain": [
       "<Figure size 432x288 with 1 Axes>"
      ]
     },
     "metadata": {
      "needs_background": "light"
     },
     "output_type": "display_data"
    }
   ],
   "source": [
    "# Intersect\n",
    "gdf_inter = gpd.sjoin(gdf, gdf_macro, how='inner', op='intersects')\n",
    "\n",
    "# Convert to Dataframe\n",
    "df = gdf_inter[['id_municipio', 'macrometropole']].copy()\n",
    "\n",
    "# Results\n",
    "display(df.head())\n",
    "gdf_inter.plot()"
   ]
  },
  {
   "cell_type": "code",
   "execution_count": 21,
   "metadata": {},
   "outputs": [
    {
     "data": {
      "text/html": [
       "<div>\n",
       "<style scoped>\n",
       "    .dataframe tbody tr th:only-of-type {\n",
       "        vertical-align: middle;\n",
       "    }\n",
       "\n",
       "    .dataframe tbody tr th {\n",
       "        vertical-align: top;\n",
       "    }\n",
       "\n",
       "    .dataframe thead th {\n",
       "        text-align: right;\n",
       "    }\n",
       "</style>\n",
       "<table border=\"1\" class=\"dataframe\">\n",
       "  <thead>\n",
       "    <tr style=\"text-align: right;\">\n",
       "      <th></th>\n",
       "      <th>id_municipio</th>\n",
       "      <th>municipio_nome</th>\n",
       "      <th>macrometropole</th>\n",
       "    </tr>\n",
       "  </thead>\n",
       "  <tbody>\n",
       "    <tr>\n",
       "      <th>0</th>\n",
       "      <td>3500600</td>\n",
       "      <td>Águas de São Pedro</td>\n",
       "      <td>Macrometrópole</td>\n",
       "    </tr>\n",
       "    <tr>\n",
       "      <th>1</th>\n",
       "      <td>3500758</td>\n",
       "      <td>Alambari</td>\n",
       "      <td>Macrometrópole</td>\n",
       "    </tr>\n",
       "    <tr>\n",
       "      <th>2</th>\n",
       "      <td>3501152</td>\n",
       "      <td>Alumínio</td>\n",
       "      <td>Macrometrópole</td>\n",
       "    </tr>\n",
       "    <tr>\n",
       "      <th>3</th>\n",
       "      <td>3501608</td>\n",
       "      <td>Americana</td>\n",
       "      <td>Macrometrópole</td>\n",
       "    </tr>\n",
       "    <tr>\n",
       "      <th>4</th>\n",
       "      <td>3502002</td>\n",
       "      <td>Analândia</td>\n",
       "      <td>Macrometrópole</td>\n",
       "    </tr>\n",
       "  </tbody>\n",
       "</table>\n",
       "</div>"
      ],
      "text/plain": [
       "   id_municipio      municipio_nome  macrometropole\n",
       "0       3500600  Águas de São Pedro  Macrometrópole\n",
       "1       3500758            Alambari  Macrometrópole\n",
       "2       3501152            Alumínio  Macrometrópole\n",
       "3       3501608           Americana  Macrometrópole\n",
       "4       3502002           Analândia  Macrometrópole"
      ]
     },
     "execution_count": 21,
     "metadata": {},
     "output_type": "execute_result"
    }
   ],
   "source": [
    "# Lê o arquivo csv com o nome dos municípios\n",
    "df_mun = pd.read_csv(\n",
    "    os.path.join(tabs_path, 'tab_municipio_nome.csv'),\n",
    "    usecols=['id_municipio', 'municipio_nome']\n",
    ")\n",
    "\n",
    "# Merge\n",
    "df = pd.merge(\n",
    "    df_mun,\n",
    "    df,\n",
    "    how='right',\n",
    "    left_on='id_municipio',\n",
    "    right_on='id_municipio'\n",
    ")\n",
    "\n",
    "# Salva\n",
    "df.to_csv(\n",
    "    os.path.join(tabs_path, 'tab_macrometropole.csv'),\n",
    "    index=False,\n",
    ")\n",
    "\n",
    "# Resultados\n",
    "df.head()"
   ]
  },
  {
   "cell_type": "markdown",
   "metadata": {},
   "source": [
    "<br>\n",
    "\n",
    "## Regiões do Governo"
   ]
  },
  {
   "cell_type": "code",
   "execution_count": 22,
   "metadata": {},
   "outputs": [
    {
     "name": "stdout",
     "output_type": "stream",
     "text": [
      "File \"sp_regioesgoverno.zip\" download in \"../data/shps\" directory.\n",
      "File \"RegioesGovernoPolygon.cst\" extracted as \"sp_regioesgoverno.cst\" in \"../data/shps\" directory.\n",
      "File \"RegioesGovernoPolygon.dbf\" extracted as \"sp_regioesgoverno.dbf\" in \"../data/shps\" directory.\n",
      "File \"RegioesGovernoPolygon.prj\" extracted as \"sp_regioesgoverno.prj\" in \"../data/shps\" directory.\n",
      "File \"RegioesGovernoPolygon.shx\" extracted as \"sp_regioesgoverno.shx\" in \"../data/shps\" directory.\n",
      "File \"RegioesGovernoPolygon.shp\" extracted as \"sp_regioesgoverno.shp\" in \"../data/shps\" directory.\n",
      "File \"wfsrequest.txt\" extracted as \"sp_regioesgoverno.txt\" in \"../data/shps\" directory.\n"
     ]
    }
   ],
   "source": [
    "# Input\n",
    "url = 'http://datageo.ambiente.sp.gov.br/geoserver/datageo/RegioesGoverno/wfs?version=1.0.0&request=GetFeature&outputFormat=SHAPE-ZIP&typeName=RegioesGoverno'\n",
    "filename = 'sp_regioesgoverno.zip'\n",
    "\n",
    "# Get Data\n",
    "get_download(url, filename, shps_path)\n",
    "unzip(filename, shps_path)"
   ]
  },
  {
   "cell_type": "code",
   "execution_count": 23,
   "metadata": {},
   "outputs": [],
   "source": [
    "def rename_nome(x):\n",
    "    x = x.title()\n",
    "    x = x.strip()\n",
    "    dict_rename = {\n",
    "        '  '  : ' ',\n",
    "        ' De '  : ' de ',\n",
    "        ' Da '  : ' da ',\n",
    "        ' Do '  : ' do ',\n",
    "        ' Dos '  : ' dos ',        \n",
    "        ' Jose '  : ' José ',\n",
    "        ' Joao '  : ' João ',\n",
    "        'Jau'  : 'Jaú',\n",
    "        'Sao ': 'São ',\n",
    "        'Avare': 'Avaré',\n",
    "        'Jundiai': 'Jundiaí',\n",
    "        'Marilia': 'Marília',\n",
    "        'Taubate': 'Taubaté',\n",
    "        'Ribeirao': 'Ribeirão',\n",
    "        'Guaratingueta': 'Guaratinguetá',\n",
    "        'Fernandopolis': 'Fernandópolis',\n",
    "    }\n",
    "    for k, v in dict_rename.items():\n",
    "        x = x.replace(k, v)\n",
    "    x = x.replace('  ', ' ')\n",
    "    return x.strip()"
   ]
  },
  {
   "cell_type": "code",
   "execution_count": 24,
   "metadata": {},
   "outputs": [
    {
     "data": {
      "text/html": [
       "<div>\n",
       "<style scoped>\n",
       "    .dataframe tbody tr th:only-of-type {\n",
       "        vertical-align: middle;\n",
       "    }\n",
       "\n",
       "    .dataframe tbody tr th {\n",
       "        vertical-align: top;\n",
       "    }\n",
       "\n",
       "    .dataframe thead th {\n",
       "        text-align: right;\n",
       "    }\n",
       "</style>\n",
       "<table border=\"1\" class=\"dataframe\">\n",
       "  <thead>\n",
       "    <tr style=\"text-align: right;\">\n",
       "      <th></th>\n",
       "      <th>regiaogoverno_nome</th>\n",
       "      <th>geometry</th>\n",
       "    </tr>\n",
       "  </thead>\n",
       "  <tbody>\n",
       "    <tr>\n",
       "      <th>0</th>\n",
       "      <td>Presidente Prudente</td>\n",
       "      <td>POLYGON ((-51.96297 -21.51639, -51.96298 -21.5...</td>\n",
       "    </tr>\n",
       "    <tr>\n",
       "      <th>1</th>\n",
       "      <td>Dracena</td>\n",
       "      <td>POLYGON ((-51.76840 -21.05116, -51.76776 -21.0...</td>\n",
       "    </tr>\n",
       "    <tr>\n",
       "      <th>2</th>\n",
       "      <td>Andradina</td>\n",
       "      <td>POLYGON ((-51.10467 -20.28636, -51.10212 -20.2...</td>\n",
       "    </tr>\n",
       "    <tr>\n",
       "      <th>3</th>\n",
       "      <td>Jales</td>\n",
       "      <td>POLYGON ((-50.61453 -19.86751, -50.61469 -19.8...</td>\n",
       "    </tr>\n",
       "    <tr>\n",
       "      <th>4</th>\n",
       "      <td>Adamantina</td>\n",
       "      <td>POLYGON ((-51.32580 -21.29629, -51.32561 -21.2...</td>\n",
       "    </tr>\n",
       "  </tbody>\n",
       "</table>\n",
       "</div>"
      ],
      "text/plain": [
       "    regiaogoverno_nome                                           geometry\n",
       "0  Presidente Prudente  POLYGON ((-51.96297 -21.51639, -51.96298 -21.5...\n",
       "1              Dracena  POLYGON ((-51.76840 -21.05116, -51.76776 -21.0...\n",
       "2            Andradina  POLYGON ((-51.10467 -20.28636, -51.10212 -20.2...\n",
       "3                Jales  POLYGON ((-50.61453 -19.86751, -50.61469 -19.8...\n",
       "4           Adamantina  POLYGON ((-51.32580 -21.29629, -51.32561 -21.2..."
      ]
     },
     "metadata": {},
     "output_type": "display_data"
    }
   ],
   "source": [
    "# Lê arquivo\n",
    "file = 'sp_regioesgoverno'\n",
    "shp = os.path.join(shps_path, '{}.shp'.format(file))\n",
    "gdf = gpd.read_file(shp)\n",
    "\n",
    "# Transforma Coordenadas\n",
    "gdf = gdf.to_crs(epsg=4326)\n",
    "\n",
    "# Renomeia colunas\n",
    "gdf.rename(columns={'Nome': 'regiaogoverno_nome'}, inplace=True)\n",
    "\n",
    "# Renomeia Campos Coluna\n",
    "gdf.loc[:, 'regiaogoverno_nome'] = gdf['regiaogoverno_nome'].astype(str).apply(lambda x: rename_nome(x))\n",
    "\n",
    "# Results\n",
    "display(gdf.head())\n",
    "\n",
    "# Cria Cópia\n",
    "gdf_gov = gdf\n",
    "\n",
    "# Deleta Shapefile\n",
    "delete_shapefile(shp)"
   ]
  },
  {
   "cell_type": "code",
   "execution_count": 25,
   "metadata": {},
   "outputs": [
    {
     "data": {
      "text/html": [
       "<div>\n",
       "<style scoped>\n",
       "    .dataframe tbody tr th:only-of-type {\n",
       "        vertical-align: middle;\n",
       "    }\n",
       "\n",
       "    .dataframe tbody tr th {\n",
       "        vertical-align: top;\n",
       "    }\n",
       "\n",
       "    .dataframe thead th {\n",
       "        text-align: right;\n",
       "    }\n",
       "</style>\n",
       "<table border=\"1\" class=\"dataframe\">\n",
       "  <thead>\n",
       "    <tr style=\"text-align: right;\">\n",
       "      <th></th>\n",
       "      <th>id_municipio</th>\n",
       "      <th>geometry</th>\n",
       "    </tr>\n",
       "  </thead>\n",
       "  <tbody>\n",
       "    <tr>\n",
       "      <th>0</th>\n",
       "      <td>3500105</td>\n",
       "      <td>POINT (-51.03455 -21.58238)</td>\n",
       "    </tr>\n",
       "    <tr>\n",
       "      <th>1</th>\n",
       "      <td>3500204</td>\n",
       "      <td>POINT (-49.64157 -21.28052)</td>\n",
       "    </tr>\n",
       "    <tr>\n",
       "      <th>2</th>\n",
       "      <td>3500303</td>\n",
       "      <td>POINT (-47.05263 -22.05743)</td>\n",
       "    </tr>\n",
       "    <tr>\n",
       "      <th>3</th>\n",
       "      <td>3500402</td>\n",
       "      <td>POINT (-46.70056 -21.91795)</td>\n",
       "    </tr>\n",
       "    <tr>\n",
       "      <th>4</th>\n",
       "      <td>3500501</td>\n",
       "      <td>POINT (-46.60940 -22.47578)</td>\n",
       "    </tr>\n",
       "  </tbody>\n",
       "</table>\n",
       "</div>"
      ],
      "text/plain": [
       "   id_municipio                     geometry\n",
       "0       3500105  POINT (-51.03455 -21.58238)\n",
       "1       3500204  POINT (-49.64157 -21.28052)\n",
       "2       3500303  POINT (-47.05263 -22.05743)\n",
       "3       3500402  POINT (-46.70056 -21.91795)\n",
       "4       3500501  POINT (-46.60940 -22.47578)"
      ]
     },
     "metadata": {},
     "output_type": "display_data"
    },
    {
     "data": {
      "text/plain": [
       "<AxesSubplot:>"
      ]
     },
     "execution_count": 25,
     "metadata": {},
     "output_type": "execute_result"
    },
    {
     "data": {
      "image/png": "[encoded data removed]",
      "text/plain": [
       "<Figure size 432x288 with 1 Axes>"
      ]
     },
     "metadata": {
      "needs_background": "light"
     },
     "output_type": "display_data"
    }
   ],
   "source": [
    "# Lê arquivo\n",
    "file = 'sp_igc_050k'\n",
    "shp = os.path.join(shps_path, '{}.shp'.format(file))\n",
    "gdf = gpd.read_file(shp)\n",
    "\n",
    "# Renomeia colunas\n",
    "gdf.rename(\n",
    "    columns={\n",
    "        'Cod_ibge'  : 'id_municipio',\n",
    "        'Cod_Cetesb': 'id_cetesb',\n",
    "        'Nome'      : 'nome_municipio',\n",
    "        'Rotulo'    : 'rotulo_municipio',\n",
    "        'Nome_ugrhi': 'nome_ugrhi',\n",
    "        'UGRHI'     : 'id_ugrhi',\n",
    "    },\n",
    "    inplace=True\n",
    ")\n",
    "\n",
    "# Deleta colunas\n",
    "gdf.drop(['id_cetesb', 'nome_municipio', 'rotulo_municipio', 'nome_ugrhi', 'id_ugrhi'], axis=1, inplace=True)\n",
    "\n",
    "# Transforma Coordenadas\n",
    "gdf = gdf.to_crs(epsg=4326)\n",
    "\n",
    "# Pega centroid\n",
    "gdf_geometry = gdf.representative_point()\n",
    "gdf['geometry'] = gdf_geometry\n",
    "\n",
    "# Results\n",
    "display(gdf.head())\n",
    "gdf.plot()"
   ]
  },
  {
   "cell_type": "code",
   "execution_count": 26,
   "metadata": {},
   "outputs": [
    {
     "name": "stderr",
     "output_type": "stream",
     "text": [
      "/home/michel/Documents/Conda/envs/pablocarreira-py39/lib/python3.9/site-packages/IPython/core/interactiveshell.py:3301: FutureWarning: The `op` parameter is deprecated and will be removed in a future release. Please use the `predicate` parameter instead.\n",
      "  if await self.run_code(code, result, async_=asy):\n"
     ]
    },
    {
     "data": {
      "text/html": [
       "<div>\n",
       "<style scoped>\n",
       "    .dataframe tbody tr th:only-of-type {\n",
       "        vertical-align: middle;\n",
       "    }\n",
       "\n",
       "    .dataframe tbody tr th {\n",
       "        vertical-align: top;\n",
       "    }\n",
       "\n",
       "    .dataframe thead th {\n",
       "        text-align: right;\n",
       "    }\n",
       "</style>\n",
       "<table border=\"1\" class=\"dataframe\">\n",
       "  <thead>\n",
       "    <tr style=\"text-align: right;\">\n",
       "      <th></th>\n",
       "      <th>id_municipio</th>\n",
       "      <th>regiaogoverno_nome</th>\n",
       "    </tr>\n",
       "  </thead>\n",
       "  <tbody>\n",
       "    <tr>\n",
       "      <th>0</th>\n",
       "      <td>3500105</td>\n",
       "      <td>Adamantina</td>\n",
       "    </tr>\n",
       "    <tr>\n",
       "      <th>181</th>\n",
       "      <td>3515806</td>\n",
       "      <td>Adamantina</td>\n",
       "    </tr>\n",
       "    <tr>\n",
       "      <th>183</th>\n",
       "      <td>3516002</td>\n",
       "      <td>Adamantina</td>\n",
       "    </tr>\n",
       "    <tr>\n",
       "      <th>238</th>\n",
       "      <td>3520806</td>\n",
       "      <td>Adamantina</td>\n",
       "    </tr>\n",
       "    <tr>\n",
       "      <th>247</th>\n",
       "      <td>3521606</td>\n",
       "      <td>Adamantina</td>\n",
       "    </tr>\n",
       "  </tbody>\n",
       "</table>\n",
       "</div>"
      ],
      "text/plain": [
       "     id_municipio regiaogoverno_nome\n",
       "0         3500105         Adamantina\n",
       "181       3515806         Adamantina\n",
       "183       3516002         Adamantina\n",
       "238       3520806         Adamantina\n",
       "247       3521606         Adamantina"
      ]
     },
     "metadata": {},
     "output_type": "display_data"
    },
    {
     "data": {
      "text/plain": [
       "<AxesSubplot:>"
      ]
     },
     "execution_count": 26,
     "metadata": {},
     "output_type": "execute_result"
    },
    {
     "data": {
      "image/png": "[encoded data removed]",
      "text/plain": [
       "<Figure size 432x288 with 1 Axes>"
      ]
     },
     "metadata": {
      "needs_background": "light"
     },
     "output_type": "display_data"
    }
   ],
   "source": [
    "# Intersect\n",
    "gdf_inter = gpd.sjoin(gdf, gdf_gov, how='inner', op='intersects')\n",
    "\n",
    "# Convert to Dataframe\n",
    "df = gdf_inter[['id_municipio', 'regiaogoverno_nome']].copy()\n",
    "\n",
    "# Results\n",
    "display(df.head())\n",
    "gdf_inter.plot()"
   ]
  },
  {
   "cell_type": "code",
   "execution_count": 27,
   "metadata": {},
   "outputs": [
    {
     "data": {
      "text/html": [
       "<div>\n",
       "<style scoped>\n",
       "    .dataframe tbody tr th:only-of-type {\n",
       "        vertical-align: middle;\n",
       "    }\n",
       "\n",
       "    .dataframe tbody tr th {\n",
       "        vertical-align: top;\n",
       "    }\n",
       "\n",
       "    .dataframe thead th {\n",
       "        text-align: right;\n",
       "    }\n",
       "</style>\n",
       "<table border=\"1\" class=\"dataframe\">\n",
       "  <thead>\n",
       "    <tr style=\"text-align: right;\">\n",
       "      <th></th>\n",
       "      <th>id_municipio</th>\n",
       "      <th>municipio_nome</th>\n",
       "      <th>regiaogoverno_nome</th>\n",
       "    </tr>\n",
       "  </thead>\n",
       "  <tbody>\n",
       "    <tr>\n",
       "      <th>0</th>\n",
       "      <td>3500105</td>\n",
       "      <td>Adamantina</td>\n",
       "      <td>Adamantina</td>\n",
       "    </tr>\n",
       "    <tr>\n",
       "      <th>1</th>\n",
       "      <td>3500204</td>\n",
       "      <td>Adolfo</td>\n",
       "      <td>São José do Rio Preto</td>\n",
       "    </tr>\n",
       "    <tr>\n",
       "      <th>2</th>\n",
       "      <td>3500303</td>\n",
       "      <td>Aguaí</td>\n",
       "      <td>São João da Boa Vista</td>\n",
       "    </tr>\n",
       "    <tr>\n",
       "      <th>3</th>\n",
       "      <td>3500402</td>\n",
       "      <td>Águas da Prata</td>\n",
       "      <td>São João da Boa Vista</td>\n",
       "    </tr>\n",
       "    <tr>\n",
       "      <th>4</th>\n",
       "      <td>3500501</td>\n",
       "      <td>Águas de Lindóia</td>\n",
       "      <td>Bragança Paulista</td>\n",
       "    </tr>\n",
       "  </tbody>\n",
       "</table>\n",
       "</div>"
      ],
      "text/plain": [
       "   id_municipio    municipio_nome     regiaogoverno_nome\n",
       "0       3500105        Adamantina             Adamantina\n",
       "1       3500204            Adolfo  São José do Rio Preto\n",
       "2       3500303             Aguaí  São João da Boa Vista\n",
       "3       3500402    Águas da Prata  São João da Boa Vista\n",
       "4       3500501  Águas de Lindóia      Bragança Paulista"
      ]
     },
     "execution_count": 27,
     "metadata": {},
     "output_type": "execute_result"
    }
   ],
   "source": [
    "# Lê o arquivo csv com o nome dos municípios\n",
    "df_mun = pd.read_csv(\n",
    "    os.path.join(tabs_path, 'tab_municipio_nome.csv'),\n",
    "    usecols=['id_municipio', 'municipio_nome']\n",
    ")\n",
    "\n",
    "# Merge\n",
    "df = pd.merge(\n",
    "    df_mun,\n",
    "    df,\n",
    "    how='left',\n",
    "    left_on='id_municipio',\n",
    "    right_on='id_municipio'\n",
    ")\n",
    "\n",
    "# Salva\n",
    "df.to_csv(\n",
    "    os.path.join(tabs_path, 'tab_municipio_regiaogoverno.csv'),\n",
    "    index=False,\n",
    ")\n",
    "\n",
    "# Resultados\n",
    "df.head()"
   ]
  },
  {
   "cell_type": "markdown",
   "metadata": {},
   "source": [
    "<br>\n",
    "\n",
    "## Regiões Administrativas"
   ]
  },
  {
   "cell_type": "code",
   "execution_count": 28,
   "metadata": {},
   "outputs": [
    {
     "name": "stdout",
     "output_type": "stream",
     "text": [
      "File \"sp_regioesadm.zip\" download in \"../data/shps\" directory.\n",
      "File \"RegiaoAdministrativaPolygon.cst\" extracted as \"sp_regioesadm.cst\" in \"../data/shps\" directory.\n",
      "File \"RegiaoAdministrativaPolygon.shx\" extracted as \"sp_regioesadm.shx\" in \"../data/shps\" directory.\n",
      "File \"RegiaoAdministrativaPolygon.shp\" extracted as \"sp_regioesadm.shp\" in \"../data/shps\" directory.\n",
      "File \"RegiaoAdministrativaPolygon.prj\" extracted as \"sp_regioesadm.prj\" in \"../data/shps\" directory.\n",
      "File \"RegiaoAdministrativaPolygon.dbf\" extracted as \"sp_regioesadm.dbf\" in \"../data/shps\" directory.\n",
      "File \"wfsrequest.txt\" extracted as \"sp_regioesadm.txt\" in \"../data/shps\" directory.\n"
     ]
    }
   ],
   "source": [
    "# Input\n",
    "url = 'http://datageo.ambiente.sp.gov.br/geoserver/datageo/RegiaoAdministrativa/wfs?version=1.0.0&request=GetFeature&outputFormat=SHAPE-ZIP&typeName=RegiaoAdministrativa'\n",
    "filename = 'sp_regioesadm.zip'\n",
    "\n",
    "# Get Data\n",
    "get_download(url, filename, shps_path)\n",
    "unzip(filename, shps_path)"
   ]
  },
  {
   "cell_type": "code",
   "execution_count": 29,
   "metadata": {},
   "outputs": [],
   "source": [
    "def rename_nome(x):\n",
    "    x = x.title()\n",
    "    x = x.strip()\n",
    "    dict_rename = {\n",
    "        '  '  : ' ',\n",
    "        ' De '  : ' de ',\n",
    "        ' Da '  : ' da ',\n",
    "        ' Do '  : ' do ',\n",
    "        ' Dos '  : ' dos ',        \n",
    "        ' Jose '  : ' José ',\n",
    "        ' Joao '  : ' João ',\n",
    "        'Jau'  : 'Jaú',\n",
    "        'Sao ': 'São ',\n",
    "        'Avare': 'Avaré',\n",
    "        'Jundiai': 'Jundiaí',\n",
    "        'Marilia': 'Marília',\n",
    "        'Taubate': 'Taubaté',\n",
    "        'Ribeirao': 'Ribeirão',\n",
    "        'Guaratingueta': 'Guaratinguetá',\n",
    "        'Fernandopolis': 'Fernandópolis',\n",
    "    }\n",
    "    for k, v in dict_rename.items():\n",
    "        x = x.replace(k, v)\n",
    "    x = x.replace('  ', ' ')\n",
    "    return x.strip()"
   ]
  },
  {
   "cell_type": "code",
   "execution_count": 30,
   "metadata": {},
   "outputs": [
    {
     "data": {
      "text/html": [
       "<div>\n",
       "<style scoped>\n",
       "    .dataframe tbody tr th:only-of-type {\n",
       "        vertical-align: middle;\n",
       "    }\n",
       "\n",
       "    .dataframe tbody tr th {\n",
       "        vertical-align: top;\n",
       "    }\n",
       "\n",
       "    .dataframe thead th {\n",
       "        text-align: right;\n",
       "    }\n",
       "</style>\n",
       "<table border=\"1\" class=\"dataframe\">\n",
       "  <thead>\n",
       "    <tr style=\"text-align: right;\">\n",
       "      <th></th>\n",
       "      <th>regiaoadm_nome</th>\n",
       "      <th>geometry</th>\n",
       "    </tr>\n",
       "  </thead>\n",
       "  <tbody>\n",
       "    <tr>\n",
       "      <th>0</th>\n",
       "      <td>Presidente Prudente</td>\n",
       "      <td>POLYGON ((-51.76840 -21.05116, -51.76776 -21.0...</td>\n",
       "    </tr>\n",
       "    <tr>\n",
       "      <th>1</th>\n",
       "      <td>Araçatuba</td>\n",
       "      <td>POLYGON ((-51.10467 -20.28636, -51.10212 -20.2...</td>\n",
       "    </tr>\n",
       "    <tr>\n",
       "      <th>2</th>\n",
       "      <td>São José do Rio Preto</td>\n",
       "      <td>POLYGON ((-50.43823 -19.79598, -50.43705 -19.7...</td>\n",
       "    </tr>\n",
       "    <tr>\n",
       "      <th>3</th>\n",
       "      <td>Marília</td>\n",
       "      <td>POLYGON ((-50.76320 -21.56327, -50.76293 -21.5...</td>\n",
       "    </tr>\n",
       "    <tr>\n",
       "      <th>4</th>\n",
       "      <td>Sorocaba</td>\n",
       "      <td>POLYGON ((-48.65221 -22.53407, -48.65203 -22.5...</td>\n",
       "    </tr>\n",
       "  </tbody>\n",
       "</table>\n",
       "</div>"
      ],
      "text/plain": [
       "          regiaoadm_nome                                           geometry\n",
       "0    Presidente Prudente  POLYGON ((-51.76840 -21.05116, -51.76776 -21.0...\n",
       "1              Araçatuba  POLYGON ((-51.10467 -20.28636, -51.10212 -20.2...\n",
       "2  São José do Rio Preto  POLYGON ((-50.43823 -19.79598, -50.43705 -19.7...\n",
       "3                Marília  POLYGON ((-50.76320 -21.56327, -50.76293 -21.5...\n",
       "4               Sorocaba  POLYGON ((-48.65221 -22.53407, -48.65203 -22.5..."
      ]
     },
     "metadata": {},
     "output_type": "display_data"
    }
   ],
   "source": [
    "# Lê arquivo\n",
    "file = 'sp_regioesadm'\n",
    "shp = os.path.join(shps_path, '{}.shp'.format(file))\n",
    "gdf = gpd.read_file(shp)\n",
    "\n",
    "# Transforma Coordenadas\n",
    "gdf = gdf.to_crs(epsg=4326)\n",
    "\n",
    "# Renomeia colunas\n",
    "gdf.rename(columns={'Nome': 'regiaoadm_nome'}, inplace=True)\n",
    "\n",
    "# Renomeia Campos Coluna\n",
    "gdf.loc[:, 'regiaoadm_nome'] = gdf['regiaoadm_nome'].astype(str).apply(lambda x: rename_nome(x))\n",
    "\n",
    "# Results\n",
    "display(gdf.head())\n",
    "\n",
    "# Cria Cópia\n",
    "gdf_adm = gdf\n",
    "\n",
    "# Deleta Shapefile\n",
    "delete_shapefile(shp)"
   ]
  },
  {
   "cell_type": "code",
   "execution_count": 31,
   "metadata": {},
   "outputs": [
    {
     "data": {
      "text/html": [
       "<div>\n",
       "<style scoped>\n",
       "    .dataframe tbody tr th:only-of-type {\n",
       "        vertical-align: middle;\n",
       "    }\n",
       "\n",
       "    .dataframe tbody tr th {\n",
       "        vertical-align: top;\n",
       "    }\n",
       "\n",
       "    .dataframe thead th {\n",
       "        text-align: right;\n",
       "    }\n",
       "</style>\n",
       "<table border=\"1\" class=\"dataframe\">\n",
       "  <thead>\n",
       "    <tr style=\"text-align: right;\">\n",
       "      <th></th>\n",
       "      <th>id_municipio</th>\n",
       "      <th>geometry</th>\n",
       "    </tr>\n",
       "  </thead>\n",
       "  <tbody>\n",
       "    <tr>\n",
       "      <th>0</th>\n",
       "      <td>3500105</td>\n",
       "      <td>POINT (-51.03455 -21.58238)</td>\n",
       "    </tr>\n",
       "    <tr>\n",
       "      <th>1</th>\n",
       "      <td>3500204</td>\n",
       "      <td>POINT (-49.64157 -21.28052)</td>\n",
       "    </tr>\n",
       "    <tr>\n",
       "      <th>2</th>\n",
       "      <td>3500303</td>\n",
       "      <td>POINT (-47.05263 -22.05743)</td>\n",
       "    </tr>\n",
       "    <tr>\n",
       "      <th>3</th>\n",
       "      <td>3500402</td>\n",
       "      <td>POINT (-46.70056 -21.91795)</td>\n",
       "    </tr>\n",
       "    <tr>\n",
       "      <th>4</th>\n",
       "      <td>3500501</td>\n",
       "      <td>POINT (-46.60940 -22.47578)</td>\n",
       "    </tr>\n",
       "  </tbody>\n",
       "</table>\n",
       "</div>"
      ],
      "text/plain": [
       "   id_municipio                     geometry\n",
       "0       3500105  POINT (-51.03455 -21.58238)\n",
       "1       3500204  POINT (-49.64157 -21.28052)\n",
       "2       3500303  POINT (-47.05263 -22.05743)\n",
       "3       3500402  POINT (-46.70056 -21.91795)\n",
       "4       3500501  POINT (-46.60940 -22.47578)"
      ]
     },
     "metadata": {},
     "output_type": "display_data"
    },
    {
     "data": {
      "text/plain": [
       "<AxesSubplot:>"
      ]
     },
     "execution_count": 31,
     "metadata": {},
     "output_type": "execute_result"
    },
    {
     "data": {
      "image/png": "[encoded data removed]",
      "text/plain": [
       "<Figure size 432x288 with 1 Axes>"
      ]
     },
     "metadata": {
      "needs_background": "light"
     },
     "output_type": "display_data"
    }
   ],
   "source": [
    "# Lê arquivo\n",
    "file = 'sp_igc_050k'\n",
    "shp = os.path.join(shps_path, '{}.shp'.format(file))\n",
    "gdf = gpd.read_file(shp)\n",
    "\n",
    "# Renomeia colunas\n",
    "gdf.rename(\n",
    "    columns={\n",
    "        'Cod_ibge'  : 'id_municipio',\n",
    "        'Cod_Cetesb': 'id_cetesb',\n",
    "        'Nome'      : 'nome_municipio',\n",
    "        'Rotulo'    : 'rotulo_municipio',\n",
    "        'Nome_ugrhi': 'nome_ugrhi',\n",
    "        'UGRHI'     : 'id_ugrhi',\n",
    "    },\n",
    "    inplace=True\n",
    ")\n",
    "\n",
    "# Deleta colunas\n",
    "gdf.drop(['id_cetesb', 'nome_municipio', 'rotulo_municipio', 'nome_ugrhi', 'id_ugrhi'], axis=1, inplace=True)\n",
    "\n",
    "# Transforma Coordenadas\n",
    "gdf = gdf.to_crs(epsg=4326)\n",
    "\n",
    "# Pega centroid\n",
    "gdf_geometry = gdf.representative_point()\n",
    "gdf['geometry'] = gdf_geometry\n",
    "\n",
    "# Results\n",
    "display(gdf.head())\n",
    "gdf.plot()"
   ]
  },
  {
   "cell_type": "code",
   "execution_count": 32,
   "metadata": {},
   "outputs": [
    {
     "name": "stderr",
     "output_type": "stream",
     "text": [
      "/home/michel/Documents/Conda/envs/pablocarreira-py39/lib/python3.9/site-packages/IPython/core/interactiveshell.py:3301: FutureWarning: The `op` parameter is deprecated and will be removed in a future release. Please use the `predicate` parameter instead.\n",
      "  if await self.run_code(code, result, async_=asy):\n"
     ]
    },
    {
     "data": {
      "text/html": [
       "<div>\n",
       "<style scoped>\n",
       "    .dataframe tbody tr th:only-of-type {\n",
       "        vertical-align: middle;\n",
       "    }\n",
       "\n",
       "    .dataframe tbody tr th {\n",
       "        vertical-align: top;\n",
       "    }\n",
       "\n",
       "    .dataframe thead th {\n",
       "        text-align: right;\n",
       "    }\n",
       "</style>\n",
       "<table border=\"1\" class=\"dataframe\">\n",
       "  <thead>\n",
       "    <tr style=\"text-align: right;\">\n",
       "      <th></th>\n",
       "      <th>id_municipio</th>\n",
       "      <th>regiaoadm_nome</th>\n",
       "    </tr>\n",
       "  </thead>\n",
       "  <tbody>\n",
       "    <tr>\n",
       "      <th>0</th>\n",
       "      <td>3500105</td>\n",
       "      <td>Presidente Prudente</td>\n",
       "    </tr>\n",
       "    <tr>\n",
       "      <th>9</th>\n",
       "      <td>3500808</td>\n",
       "      <td>Presidente Prudente</td>\n",
       "    </tr>\n",
       "    <tr>\n",
       "      <th>15</th>\n",
       "      <td>3501301</td>\n",
       "      <td>Presidente Prudente</td>\n",
       "    </tr>\n",
       "    <tr>\n",
       "      <th>26</th>\n",
       "      <td>3502408</td>\n",
       "      <td>Presidente Prudente</td>\n",
       "    </tr>\n",
       "    <tr>\n",
       "      <th>100</th>\n",
       "      <td>3508900</td>\n",
       "      <td>Presidente Prudente</td>\n",
       "    </tr>\n",
       "  </tbody>\n",
       "</table>\n",
       "</div>"
      ],
      "text/plain": [
       "     id_municipio       regiaoadm_nome\n",
       "0         3500105  Presidente Prudente\n",
       "9         3500808  Presidente Prudente\n",
       "15        3501301  Presidente Prudente\n",
       "26        3502408  Presidente Prudente\n",
       "100       3508900  Presidente Prudente"
      ]
     },
     "metadata": {},
     "output_type": "display_data"
    },
    {
     "data": {
      "text/plain": [
       "<AxesSubplot:>"
      ]
     },
     "execution_count": 32,
     "metadata": {},
     "output_type": "execute_result"
    },
    {
     "data": {
      "image/png": "[encoded data removed]",
      "text/plain": [
       "<Figure size 432x288 with 1 Axes>"
      ]
     },
     "metadata": {
      "needs_background": "light"
     },
     "output_type": "display_data"
    }
   ],
   "source": [
    "# Intersect\n",
    "gdf_inter = gpd.sjoin(gdf, gdf_adm, how='inner', op='intersects')\n",
    "\n",
    "# Convert to Dataframe\n",
    "df = gdf_inter[['id_municipio', 'regiaoadm_nome']].copy()\n",
    "\n",
    "# Results\n",
    "display(df.head())\n",
    "gdf_inter.plot()"
   ]
  },
  {
   "cell_type": "code",
   "execution_count": 33,
   "metadata": {},
   "outputs": [
    {
     "data": {
      "text/html": [
       "<div>\n",
       "<style scoped>\n",
       "    .dataframe tbody tr th:only-of-type {\n",
       "        vertical-align: middle;\n",
       "    }\n",
       "\n",
       "    .dataframe tbody tr th {\n",
       "        vertical-align: top;\n",
       "    }\n",
       "\n",
       "    .dataframe thead th {\n",
       "        text-align: right;\n",
       "    }\n",
       "</style>\n",
       "<table border=\"1\" class=\"dataframe\">\n",
       "  <thead>\n",
       "    <tr style=\"text-align: right;\">\n",
       "      <th></th>\n",
       "      <th>id_municipio</th>\n",
       "      <th>municipio_nome</th>\n",
       "      <th>regiaoadm_nome</th>\n",
       "    </tr>\n",
       "  </thead>\n",
       "  <tbody>\n",
       "    <tr>\n",
       "      <th>0</th>\n",
       "      <td>3500105</td>\n",
       "      <td>Adamantina</td>\n",
       "      <td>Presidente Prudente</td>\n",
       "    </tr>\n",
       "    <tr>\n",
       "      <th>1</th>\n",
       "      <td>3500204</td>\n",
       "      <td>Adolfo</td>\n",
       "      <td>São José do Rio Preto</td>\n",
       "    </tr>\n",
       "    <tr>\n",
       "      <th>2</th>\n",
       "      <td>3500303</td>\n",
       "      <td>Aguaí</td>\n",
       "      <td>Campinas</td>\n",
       "    </tr>\n",
       "    <tr>\n",
       "      <th>3</th>\n",
       "      <td>3500402</td>\n",
       "      <td>Águas da Prata</td>\n",
       "      <td>Campinas</td>\n",
       "    </tr>\n",
       "    <tr>\n",
       "      <th>4</th>\n",
       "      <td>3500501</td>\n",
       "      <td>Águas de Lindóia</td>\n",
       "      <td>Campinas</td>\n",
       "    </tr>\n",
       "  </tbody>\n",
       "</table>\n",
       "</div>"
      ],
      "text/plain": [
       "   id_municipio    municipio_nome         regiaoadm_nome\n",
       "0       3500105        Adamantina    Presidente Prudente\n",
       "1       3500204            Adolfo  São José do Rio Preto\n",
       "2       3500303             Aguaí               Campinas\n",
       "3       3500402    Águas da Prata               Campinas\n",
       "4       3500501  Águas de Lindóia               Campinas"
      ]
     },
     "execution_count": 33,
     "metadata": {},
     "output_type": "execute_result"
    }
   ],
   "source": [
    "# Lê o arquivo csv com o nome dos municípios\n",
    "df_mun = pd.read_csv(\n",
    "    os.path.join(tabs_path, 'tab_municipio_nome.csv'),\n",
    "    usecols=['id_municipio', 'municipio_nome']\n",
    ")\n",
    "\n",
    "# Merge\n",
    "df = pd.merge(\n",
    "    df_mun,\n",
    "    df,\n",
    "    how='left',\n",
    "    left_on='id_municipio',\n",
    "    right_on='id_municipio'\n",
    ")\n",
    "\n",
    "# Salva\n",
    "df.to_csv(\n",
    "    os.path.join(tabs_path, 'tab_municipio_regiaoadm.csv'),\n",
    "    index=False,\n",
    ")\n",
    "\n",
    "# Resultados\n",
    "df.head()"
   ]
  },
  {
   "cell_type": "markdown",
   "metadata": {},
   "source": [
    "<br>\n",
    "\n",
    "# Delete Temp Files"
   ]
  },
  {
   "cell_type": "code",
   "execution_count": 34,
   "metadata": {},
   "outputs": [],
   "source": [
    "# Deleta Shapefile\n",
    "file = 'sp_ibge_250k'\n",
    "shp = os.path.join(shps_path, '{}.shp'.format(file))\n",
    "delete_shapefile(shp)"
   ]
  },
  {
   "cell_type": "code",
   "execution_count": 35,
   "metadata": {},
   "outputs": [],
   "source": [
    "# Deleta Shapefile\n",
    "file = 'sp_igc_050k'\n",
    "shp = os.path.join(shps_path, '{}.shp'.format(file))\n",
    "delete_shapefile(shp)"
   ]
  },
  {
   "cell_type": "code",
   "execution_count": 36,
   "metadata": {},
   "outputs": [
    {
     "name": "stdout",
     "output_type": "stream",
     "text": [
      "Erro\n"
     ]
    }
   ],
   "source": [
    "import shutil\n",
    "shutil.rmtree(shps_path, ignore_errors=True, onerror=print('Erro'))"
   ]
  },
  {
   "cell_type": "code",
   "execution_count": null,
   "metadata": {},
   "outputs": [],
   "source": []
  }
 ],
 "metadata": {
  "kernelspec": {
   "display_name": "Python 3 (ipykernel)",
   "language": "python",
   "name": "python3"
  },
  "language_info": {
   "codemirror_mode": {
    "name": "ipython",
    "version": 3
   },
   "file_extension": ".py",
   "mimetype": "text/x-python",
   "name": "python",
   "nbconvert_exporter": "python",
   "pygments_lexer": "ipython3",
   "version": "3.9.12"
  }
 },
 "nbformat": 4,
 "nbformat_minor": 4
}
