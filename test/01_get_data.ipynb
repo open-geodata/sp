{
 "cells": [
  {
   "cell_type": "markdown",
   "id": "3d42a4e8",
   "metadata": {},
   "source": [
    "<br>\n",
    "\n",
    "# Introdução"
   ]
  },
  {
   "cell_type": "markdown",
   "id": "b30b9b93",
   "metadata": {},
   "source": [
    "Para o presente projeto, é necessário fazer o *download* os dados espaciais contendo a divisão municipal. Optou-se por baixar os dados do [**Instituto Brasileiro de Geografia e Estatistica (IBGE)**](https://geoftp.ibge.gov.br/organizacao_do_territorio/malhas_territoriais/malhas_municipais), em escala 1:250.000, suficiente para atender o objetivo do projeto, que trata-se de demostrar quais as divisões administrativas, por município, de diversos órgãos e/ou instituições.\n",
    "\n",
    "Portanto, faz-se o *download* do arquivo zipado do **IBGE** e se descompacta o arquivo _shapefile_. Aproveitou-se para renomear o arquivo um nome mais inteligível."
   ]
  },
  {
   "cell_type": "markdown",
   "id": "488b1d24",
   "metadata": {},
   "source": [
    "[Repo SP](https://github.com/michelmetran/sp)"
   ]
  },
  {
   "cell_type": "code",
   "execution_count": null,
   "id": "c6920489",
   "metadata": {},
   "outputs": [],
   "source": [
    "#!pip3 install openpyxl --upgrade"
   ]
  },
  {
   "cell_type": "code",
   "execution_count": null,
   "id": "cf989cc4",
   "metadata": {
    "jupyter": {
     "outputs_hidden": false
    },
    "pycharm": {
     "name": "#%%\n"
    }
   },
   "outputs": [],
   "source": [
    "import os\n",
    "import requests\n",
    "import pandas as pd\n",
    "import geopandas as gpd\n",
    "\n",
    "from osgeo import ogr\n",
    "from zipfile import ZipFile"
   ]
  },
  {
   "cell_type": "code",
   "execution_count": null,
   "id": "9be0be93",
   "metadata": {},
   "outputs": [],
   "source": [
    "from paths import *\n",
    "from functions import *"
   ]
  },
  {
   "cell_type": "markdown",
   "id": "c3b22622",
   "metadata": {},
   "source": [
    "<br>\n",
    "\n",
    "# Dados Espaciais"
   ]
  },
  {
   "cell_type": "markdown",
   "id": "ecf9493d",
   "metadata": {},
   "source": [
    "<br>\n",
    "\n",
    "## Limite Municipal 1:250.000"
   ]
  },
  {
   "cell_type": "code",
   "execution_count": null,
   "id": "b41893a5",
   "metadata": {},
   "outputs": [],
   "source": [
    "# Input\n",
    "url = 'https://geoftp.ibge.gov.br/organizacao_do_territorio/malhas_territoriais/malhas_municipais/municipio_2020/UFs/SP/SP_Municipios_2020.zip'\n",
    "filename = 'sp_ibge_250k.zip'\n",
    "\n",
    "# Get Data\n",
    "get_download(url, filename, shps_path)\n",
    "unzip(filename, shps_path)"
   ]
  },
  {
   "cell_type": "code",
   "execution_count": null,
   "id": "71832cb0",
   "metadata": {},
   "outputs": [],
   "source": [
    "# Converte em *geojson*\n",
    "file = 'sp_ibge_250k'\n",
    "shp = os.path.join(shps_path, '{}.shp'.format(file))\n",
    "gdf = gpd.read_file(shp)\n",
    "\n",
    "# Deleta colunas\n",
    "gdf.drop([\n",
    "    'NM_MUN',\n",
    "    'SIGLA_UF',\n",
    "    'AREA_KM2'\n",
    "],\n",
    "    axis=1,\n",
    "    inplace=True\n",
    ")\n",
    "\n",
    "# Renomeia colunas\n",
    "gdf.rename(columns={'CD_MUN': 'id_municipio'}, inplace=True)\n",
    "\n",
    "# Ajusta Tipo\n",
    "gdf['id_municipio'] = gdf['id_municipio'].astype(int)\n",
    "\n",
    "# Transforma Coordenadas\n",
    "gdf = gdf.to_crs(epsg=4326)\n",
    "\n",
    "# Results\n",
    "gdf"
   ]
  },
  {
   "cell_type": "code",
   "execution_count": null,
   "id": "5b54483e",
   "metadata": {},
   "outputs": [],
   "source": [
    "# Lê o arquivo csv com o nome dos municípios\n",
    "df_mun = pd.read_csv(\n",
    "    os.path.join(tabs_path, 'tab_municipio_nome.csv'),\n",
    "    usecols=['id_municipio', 'municipio_nome']\n",
    ")\n",
    "\n",
    "# Merge\n",
    "gdf_mun = pd.merge(\n",
    "    df_mun,\n",
    "    gdf,\n",
    "    how='left',\n",
    "    left_on='id_municipio',\n",
    "    right_on='id_municipio'\n",
    ")\n",
    "\n",
    "# Results\n",
    "gdf_mun"
   ]
  },
  {
   "cell_type": "code",
   "execution_count": null,
   "id": "aa9f0123",
   "metadata": {},
   "outputs": [],
   "source": [
    "# Converte para Geodataframe\n",
    "gdf_mun = gpd.GeoDataFrame(\n",
    "    gdf_mun,\n",
    "    crs='EPSG:4326',\n",
    ")\n",
    "\n",
    "# Salva Arquivo\n",
    "gdf_mun.to_file(    \n",
    "    os.path.join(gjson_path, 'sp_250k_wgs84.geojson'),\n",
    "    driver='GeoJSON',\n",
    "    encoding='utf-8'\n",
    ")\n",
    "\n",
    "# Salva Arquivo\n",
    "gdf_mun.to_file(\n",
    "    os.path.join(gpkg_path, 'sp_250k_wgs84.gpkg'),\n",
    "    layer='Limite Municipal',\n",
    "    driver='GPKG',\n",
    "    encoding='utf-8'\n",
    ")\n",
    "\n",
    "# Results\n",
    "gdf_mun"
   ]
  },
  {
   "cell_type": "markdown",
   "id": "ffa8055c",
   "metadata": {},
   "source": [
    "<br>\n",
    "\n",
    "## Limite Municipal 1:50.000"
   ]
  },
  {
   "cell_type": "code",
   "execution_count": null,
   "id": "d498c585",
   "metadata": {},
   "outputs": [],
   "source": [
    "# Input\n",
    "url = 'http://datageo.ambiente.sp.gov.br/geoserver/datageo/LimiteMunicipal/wfs?version=1.0.0&request=GetFeature&outputFormat=SHAPE-ZIP&typeName=LimiteMunicipal'\n",
    "filename = 'sp_igc_050k.zip'\n",
    "\n",
    "# Get Data\n",
    "get_download(url, filename, shps_path)\n",
    "unzip(filename, shps_path)"
   ]
  },
  {
   "cell_type": "code",
   "execution_count": null,
   "id": "f6160b73",
   "metadata": {},
   "outputs": [],
   "source": [
    "# Lê arquivo\n",
    "file = 'sp_igc_050k'\n",
    "shp = os.path.join(shps_path, '{}.shp'.format(file))\n",
    "gdf = gpd.read_file(shp)\n",
    "\n",
    "# Deleta colunas\n",
    "gdf.drop(['Cod_Cetesb', 'Nome', 'Rotulo', 'UGRHI', 'Nome_ugrhi'], axis=1, inplace=True)\n",
    "\n",
    "# Renomeia colunas\n",
    "gdf.rename(\n",
    "    columns={\n",
    "        'Cod_ibge': 'id_municipio',\n",
    "    },\n",
    "    inplace=True\n",
    ")\n",
    "\n",
    "# Transforma Coordenadas\n",
    "gdf = gdf.to_crs(epsg=4326)\n",
    "\n",
    "# Results\n",
    "gdf"
   ]
  },
  {
   "cell_type": "code",
   "execution_count": null,
   "id": "f19a9dbd",
   "metadata": {},
   "outputs": [],
   "source": [
    "# Lê o arquivo csv com o nome dos municípios\n",
    "df_mun = pd.read_csv(\n",
    "    os.path.join(tabs_path, 'tab_municipio_nome.csv'),\n",
    "    usecols=['id_municipio', 'municipio_nome']\n",
    ")\n",
    "\n",
    "# Merge\n",
    "gdf = pd.merge(\n",
    "    df_mun,\n",
    "    gdf,\n",
    "    how='left',\n",
    "    left_on='id_municipio',\n",
    "    right_on='id_municipio'\n",
    ")\n",
    "\n",
    "# Results\n",
    "gdf"
   ]
  },
  {
   "cell_type": "code",
   "execution_count": null,
   "id": "75d853a1",
   "metadata": {},
   "outputs": [],
   "source": [
    "# Converte para Geodataframe\n",
    "gdf = gpd.GeoDataFrame(\n",
    "    gdf,\n",
    "    crs='EPSG:4326',\n",
    ")\n",
    "\n",
    "# Salva Arquivo\n",
    "gdf.to_file(\n",
    "    os.path.join(gjson_path, 'sp_050k_wgs84.geojson'),\n",
    "    driver='GeoJSON',\n",
    "    encoding='utf-8'\n",
    ")\n",
    "\n",
    "# Salva Arquivo\n",
    "gdf.to_file(\n",
    "    os.path.join(gpkg_path, 'sp_050k_wgs84.gpkg'),\n",
    "    layer='Limite Municipal',\n",
    "    driver='GPKG',\n",
    "    encoding='utf-8'\n",
    ")"
   ]
  },
  {
   "cell_type": "code",
   "execution_count": null,
   "id": "af6edae9-9770-42e9-b7de-0f8c4e9e42c5",
   "metadata": {},
   "outputs": [],
   "source": []
  }
 ],
 "metadata": {
  "kernelspec": {
   "display_name": "Python 3 (ipykernel)",
   "language": "python",
   "name": "python3"
  },
  "language_info": {
   "codemirror_mode": {
    "name": "ipython",
    "version": 3
   },
   "file_extension": ".py",
   "mimetype": "text/x-python",
   "name": "python",
   "nbconvert_exporter": "python",
   "pygments_lexer": "ipython3",
   "version": "3.9.10"
  },
  "toc-autonumbering": true
 },
 "nbformat": 4,
 "nbformat_minor": 5
}
